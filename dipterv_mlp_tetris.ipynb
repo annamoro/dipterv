{
 "cells": [
  {
   "cell_type": "code",
   "execution_count": 1,
   "metadata": {
    "collapsed": false
   },
   "outputs": [
    {
     "name": "stderr",
     "output_type": "stream",
     "text": [
      "Using TensorFlow backend.\n"
     ]
    }
   ],
   "source": [
    "from __future__ import print_function\n",
    "import os\n",
    "import numpy as np\n",
    "from numpy import newaxis\n",
    "from sklearn import preprocessing\n",
    "np.random.seed(1337)\n",
    "\n",
    "import keras\n",
    "from keras.utils.np_utils import to_categorical\n",
    "from keras.layers import Dense, Input, Flatten\n",
    "from keras.layers import Dropout\n",
    "from keras.models import Model,Sequential\n",
    "import sys\n",
    "\n",
    "import pandas as pd\n",
    "import random"
   ]
  },
  {
   "cell_type": "markdown",
   "metadata": {},
   "source": [
    "# Reading in data"
   ]
  },
  {
   "cell_type": "code",
   "execution_count": 100,
   "metadata": {
    "collapsed": false
   },
   "outputs": [
    {
     "name": "stdout",
     "output_type": "stream",
     "text": [
      "Data read started...\n",
      "Data read finished.\n",
      "(603, 11)\n"
     ]
    }
   ],
   "source": [
    "print(\"Data read started...\")\n",
    "data = pd.read_csv(\"result_tetris.csv\")\n",
    "data = data.as_matrix()\n",
    "print (\"Data read finished.\")\n",
    "\n",
    "print(data.shape)"
   ]
  },
  {
   "cell_type": "markdown",
   "metadata": {},
   "source": [
    "# Eliminate EEG data"
   ]
  },
  {
   "cell_type": "code",
   "execution_count": 101,
   "metadata": {
    "collapsed": false
   },
   "outputs": [
    {
     "data": {
      "text/plain": [
       "(603, 7)"
      ]
     },
     "execution_count": 101,
     "metadata": {},
     "output_type": "execute_result"
    }
   ],
   "source": [
    "for i in range (1,5):\n",
    "    data = np.delete(data, i, 1) \n",
    "\n",
    "data.shape"
   ]
  },
  {
   "cell_type": "code",
   "execution_count": 102,
   "metadata": {
    "collapsed": false
   },
   "outputs": [
    {
     "data": {
      "text/plain": [
       "array(['tetris1', 84441.0, 56966.0, 1688.7, 4.378305084745762, 335.19,\n",
       "       537.78], dtype=object)"
      ]
     },
     "execution_count": 102,
     "metadata": {},
     "output_type": "execute_result"
    }
   ],
   "source": [
    "data[1]"
   ]
  },
  {
   "cell_type": "markdown",
   "metadata": {},
   "source": [
    "# Dictionary for the levels"
   ]
  },
  {
   "cell_type": "code",
   "execution_count": 103,
   "metadata": {
    "collapsed": true
   },
   "outputs": [],
   "source": [
    "#level=[\"nback gyakorlas\",\"0back\",\"1back\",\"2back\",\"3back\"]\n",
    "level=[\"tetris1\",\"tetris2\",\"tetris3\"]\n",
    "level2int = dict((p, i) for i, p in enumerate(level))\n",
    "int2level = dict((i, p) for i, p in enumerate(level))"
   ]
  },
  {
   "cell_type": "markdown",
   "metadata": {},
   "source": [
    "# Z normalize"
   ]
  },
  {
   "cell_type": "code",
   "execution_count": 104,
   "metadata": {
    "collapsed": false
   },
   "outputs": [
    {
     "name": "stderr",
     "output_type": "stream",
     "text": [
      "/home/amoro/anaconda2/lib/python2.7/site-packages/sklearn/utils/validation.py:420: DataConversionWarning: Data with input dtype object was converted to float64 by the scale function.\n",
      "  warnings.warn(msg, DataConversionWarning)\n",
      "/home/amoro/anaconda2/lib/python2.7/site-packages/sklearn/utils/validation.py:420: DataConversionWarning: Data with input dtype object was converted to float64 by the scale function.\n",
      "  warnings.warn(msg, DataConversionWarning)\n",
      "/home/amoro/anaconda2/lib/python2.7/site-packages/sklearn/utils/validation.py:420: DataConversionWarning: Data with input dtype object was converted to float64 by the scale function.\n",
      "  warnings.warn(msg, DataConversionWarning)\n",
      "/home/amoro/anaconda2/lib/python2.7/site-packages/sklearn/utils/validation.py:420: DataConversionWarning: Data with input dtype object was converted to float64 by the scale function.\n",
      "  warnings.warn(msg, DataConversionWarning)\n",
      "/home/amoro/anaconda2/lib/python2.7/site-packages/sklearn/utils/validation.py:420: DataConversionWarning: Data with input dtype object was converted to float64 by the scale function.\n",
      "  warnings.warn(msg, DataConversionWarning)\n",
      "/home/amoro/anaconda2/lib/python2.7/site-packages/sklearn/utils/validation.py:420: DataConversionWarning: Data with input dtype object was converted to float64 by the scale function.\n",
      "  warnings.warn(msg, DataConversionWarning)\n"
     ]
    }
   ],
   "source": [
    "for i in range (1,7):\n",
    "    data[:, i] = preprocessing.scale(data[:, i])"
   ]
  },
  {
   "cell_type": "code",
   "execution_count": 105,
   "metadata": {
    "collapsed": false
   },
   "outputs": [],
   "source": [
    "for i in range(len(data)):\n",
    "    data[i, 0] = level2int[data[i, 0]]\n",
    "\n",
    "x_data = data[:, 1:]\n",
    "y_data = data[:, 0]"
   ]
  },
  {
   "cell_type": "markdown",
   "metadata": {},
   "source": [
    "# One-hot encoding"
   ]
  },
  {
   "cell_type": "code",
   "execution_count": 106,
   "metadata": {
    "collapsed": false
   },
   "outputs": [
    {
     "name": "stdout",
     "output_type": "stream",
     "text": [
      "[[ 1.  0.  0.]\n",
      " [ 1.  0.  0.]\n",
      " [ 1.  0.  0.]\n",
      " ..., \n",
      " [ 0.  0.  1.]\n",
      " [ 0.  0.  1.]\n",
      " [ 0.  0.  1.]]\n"
     ]
    }
   ],
   "source": [
    "from sklearn.preprocessing import OneHotEncoder\n",
    "\n",
    "ohe = OneHotEncoder()\n",
    "y_one_hot = ohe.fit_transform(y_data.reshape(-1,1)).toarray()\n",
    "print(y_one_hot)"
   ]
  },
  {
   "cell_type": "markdown",
   "metadata": {},
   "source": [
    "# Shuffle data"
   ]
  },
  {
   "cell_type": "code",
   "execution_count": 107,
   "metadata": {
    "collapsed": true
   },
   "outputs": [],
   "source": [
    "indices = np.arange(x_data.shape[0])\n",
    "np.random.shuffle(indices)\n",
    "\n",
    "x_data = x_data[indices]\n",
    "y_one_hot = y_one_hot[indices]"
   ]
  },
  {
   "cell_type": "markdown",
   "metadata": {},
   "source": [
    "# Divide into train, validation and test data"
   ]
  },
  {
   "cell_type": "code",
   "execution_count": 108,
   "metadata": {
    "collapsed": true
   },
   "outputs": [],
   "source": [
    "len_data = len(x_data)\n",
    "\n",
    "nb_test = int(len_data*0.15)\n",
    "nb_validation = int(len_data*0.15)\n",
    "nb_train = int(len_data*0.7)\n",
    "\n",
    "end_valid = nb_train+nb_validation\n",
    "\n",
    "x_train = x_data[0:nb_train]\n",
    "y_train = y_one_hot[0:nb_train]\n",
    "\n",
    "x_valid = x_data[nb_train:end_valid]\n",
    "y_valid = y_one_hot[nb_train:end_valid]\n",
    "\n",
    "x_test = x_data[end_valid:]\n",
    "y_test = y_one_hot[end_valid:]"
   ]
  },
  {
   "cell_type": "code",
   "execution_count": 109,
   "metadata": {
    "collapsed": false
   },
   "outputs": [
    {
     "name": "stdout",
     "output_type": "stream",
     "text": [
      "(422, 6) (422, 3) (90, 6) (90, 3) (91, 6) (91, 3)\n"
     ]
    }
   ],
   "source": [
    "print(x_train.shape, y_train.shape, x_valid.shape, y_valid.shape, x_test.shape, y_test.shape)"
   ]
  },
  {
   "cell_type": "markdown",
   "metadata": {},
   "source": [
    "# Build the net"
   ]
  },
  {
   "cell_type": "code",
   "execution_count": 110,
   "metadata": {
    "collapsed": false
   },
   "outputs": [],
   "source": [
    "model = Sequential()\n",
    "\n",
    "model.add(Dense(200, input_shape=(6,)))\n",
    "model.add(Dropout(0.25))\n",
    "model.add(Dense(200, activation='relu'))\n",
    "model.add(Dropout(0.25))\n",
    "model.add(Dense(200, activation='relu'))\n",
    "model.add(Dropout(0.25))\n",
    "model.add(Dense(3, activation='softmax'))"
   ]
  },
  {
   "cell_type": "code",
   "execution_count": 111,
   "metadata": {
    "collapsed": false
   },
   "outputs": [
    {
     "name": "stdout",
     "output_type": "stream",
     "text": [
      "Train on 422 samples, validate on 90 samples\n",
      "Epoch 1/150\n",
      "422/422 [==============================] - 0s - loss: 0.8666 - acc: 0.5640 - val_loss: 0.5663 - val_acc: 0.7444\n",
      "Epoch 2/150\n",
      "422/422 [==============================] - 0s - loss: 0.6128 - acc: 0.6303 - val_loss: 0.4786 - val_acc: 0.7444\n",
      "Epoch 3/150\n",
      "422/422 [==============================] - 0s - loss: 0.5609 - acc: 0.6706 - val_loss: 0.4488 - val_acc: 0.7444\n",
      "Epoch 4/150\n",
      "422/422 [==============================] - 0s - loss: 0.5248 - acc: 0.7109 - val_loss: 0.4154 - val_acc: 0.7444\n",
      "Epoch 5/150\n",
      "422/422 [==============================] - 0s - loss: 0.5142 - acc: 0.6919 - val_loss: 0.4103 - val_acc: 0.7667\n",
      "Epoch 6/150\n",
      "422/422 [==============================] - 0s - loss: 0.4833 - acc: 0.7180 - val_loss: 0.3838 - val_acc: 0.7778\n",
      "Epoch 7/150\n",
      "422/422 [==============================] - 0s - loss: 0.4768 - acc: 0.7464 - val_loss: 0.3841 - val_acc: 0.7667\n",
      "Epoch 8/150\n",
      "422/422 [==============================] - 0s - loss: 0.4797 - acc: 0.7346 - val_loss: 0.3894 - val_acc: 0.7556\n",
      "Epoch 9/150\n",
      "422/422 [==============================] - 0s - loss: 0.4823 - acc: 0.7227 - val_loss: 0.3808 - val_acc: 0.7556\n",
      "Epoch 10/150\n",
      "422/422 [==============================] - 0s - loss: 0.4878 - acc: 0.6919 - val_loss: 0.3814 - val_acc: 0.7333\n",
      "Epoch 11/150\n",
      "422/422 [==============================] - 0s - loss: 0.5175 - acc: 0.6967 - val_loss: 0.3988 - val_acc: 0.7667\n",
      "Epoch 12/150\n",
      "422/422 [==============================] - 0s - loss: 0.4881 - acc: 0.7156 - val_loss: 0.3942 - val_acc: 0.7333\n",
      "Epoch 13/150\n",
      "422/422 [==============================] - 0s - loss: 0.4731 - acc: 0.7393 - val_loss: 0.3937 - val_acc: 0.7667\n",
      "Epoch 14/150\n",
      "422/422 [==============================] - 0s - loss: 0.4680 - acc: 0.7227 - val_loss: 0.4044 - val_acc: 0.7778\n",
      "Epoch 15/150\n",
      "422/422 [==============================] - 0s - loss: 0.4817 - acc: 0.6943 - val_loss: 0.3952 - val_acc: 0.7222\n",
      "Epoch 16/150\n",
      "422/422 [==============================] - 0s - loss: 0.4951 - acc: 0.7156 - val_loss: 0.3941 - val_acc: 0.7667\n",
      "Epoch 17/150\n",
      "422/422 [==============================] - 0s - loss: 0.4633 - acc: 0.7370 - val_loss: 0.3778 - val_acc: 0.7556\n",
      "Epoch 18/150\n",
      "422/422 [==============================] - 0s - loss: 0.4801 - acc: 0.6967 - val_loss: 0.3863 - val_acc: 0.7556\n",
      "Epoch 19/150\n",
      "422/422 [==============================] - 0s - loss: 0.4704 - acc: 0.7109 - val_loss: 0.3846 - val_acc: 0.7556\n",
      "Epoch 20/150\n",
      "422/422 [==============================] - 0s - loss: 0.4553 - acc: 0.7227 - val_loss: 0.3851 - val_acc: 0.7556\n",
      "Epoch 21/150\n",
      "422/422 [==============================] - 0s - loss: 0.4497 - acc: 0.7370 - val_loss: 0.4293 - val_acc: 0.7222\n",
      "Epoch 22/150\n",
      "422/422 [==============================] - 0s - loss: 0.4948 - acc: 0.7251 - val_loss: 0.4058 - val_acc: 0.7333\n",
      "Epoch 23/150\n",
      "422/422 [==============================] - 0s - loss: 0.4575 - acc: 0.7346 - val_loss: 0.3730 - val_acc: 0.7778\n",
      "Epoch 24/150\n",
      "422/422 [==============================] - 0s - loss: 0.4654 - acc: 0.7085 - val_loss: 0.3759 - val_acc: 0.7889\n",
      "Epoch 25/150\n",
      "422/422 [==============================] - 0s - loss: 0.4692 - acc: 0.7346 - val_loss: 0.3983 - val_acc: 0.7667\n",
      "Epoch 26/150\n",
      "422/422 [==============================] - 0s - loss: 0.4610 - acc: 0.7441 - val_loss: 0.3882 - val_acc: 0.7556\n",
      "Epoch 27/150\n",
      "422/422 [==============================] - 0s - loss: 0.4631 - acc: 0.7322 - val_loss: 0.3766 - val_acc: 0.7556\n",
      "Epoch 28/150\n",
      "422/422 [==============================] - 0s - loss: 0.4642 - acc: 0.7133 - val_loss: 0.3983 - val_acc: 0.7556\n",
      "Epoch 29/150\n",
      "422/422 [==============================] - 0s - loss: 0.4593 - acc: 0.7251 - val_loss: 0.3812 - val_acc: 0.7889\n",
      "Epoch 30/150\n",
      "422/422 [==============================] - 0s - loss: 0.4780 - acc: 0.6943 - val_loss: 0.3803 - val_acc: 0.7556\n",
      "Epoch 31/150\n",
      "422/422 [==============================] - 0s - loss: 0.4444 - acc: 0.7488 - val_loss: 0.4019 - val_acc: 0.7667\n",
      "Epoch 32/150\n",
      "422/422 [==============================] - 0s - loss: 0.4649 - acc: 0.7275 - val_loss: 0.3946 - val_acc: 0.7667\n",
      "Epoch 33/150\n",
      "422/422 [==============================] - 0s - loss: 0.4633 - acc: 0.7227 - val_loss: 0.3851 - val_acc: 0.7444\n",
      "Epoch 34/150\n",
      "422/422 [==============================] - 0s - loss: 0.4593 - acc: 0.7014 - val_loss: 0.3810 - val_acc: 0.7333\n",
      "Epoch 35/150\n",
      "422/422 [==============================] - 0s - loss: 0.4646 - acc: 0.7204 - val_loss: 0.3803 - val_acc: 0.7889\n",
      "Epoch 36/150\n",
      "422/422 [==============================] - 0s - loss: 0.4579 - acc: 0.7417 - val_loss: 0.3869 - val_acc: 0.7556\n",
      "Epoch 37/150\n",
      "422/422 [==============================] - 0s - loss: 0.4482 - acc: 0.7299 - val_loss: 0.3811 - val_acc: 0.7667\n",
      "Epoch 38/150\n",
      "422/422 [==============================] - 0s - loss: 0.4492 - acc: 0.7370 - val_loss: 0.3754 - val_acc: 0.7778\n",
      "Epoch 39/150\n",
      "422/422 [==============================] - 0s - loss: 0.4513 - acc: 0.7393 - val_loss: 0.3781 - val_acc: 0.7667\n"
     ]
    },
    {
     "data": {
      "text/plain": [
       "<keras.callbacks.History at 0x7fa9817175d0>"
      ]
     },
     "execution_count": 111,
     "metadata": {},
     "output_type": "execute_result"
    }
   ],
   "source": [
    "batch_size = 50\n",
    "epochs = 150\n",
    "earlyStopping=keras.callbacks.EarlyStopping(monitor='val_loss', patience=15, verbose=0, mode='auto')\n",
    "\n",
    "model.compile(loss='categorical_crossentropy',optimizer='adam',metrics=['acc'])\n",
    "model.fit(x_train, y_train, nb_epoch=epochs,batch_size=batch_size, \n",
    "          callbacks=[earlyStopping], shuffle=True, validation_data = (x_valid, y_valid))"
   ]
  },
  {
   "cell_type": "code",
   "execution_count": 112,
   "metadata": {
    "collapsed": false
   },
   "outputs": [
    {
     "name": "stdout",
     "output_type": "stream",
     "text": [
      "\r",
      "50/91 [===============>..............] - ETA: 0s"
     ]
    },
    {
     "data": {
      "text/plain": [
       "[0.43475596655856125, 0.69230771457755957]"
      ]
     },
     "execution_count": 112,
     "metadata": {},
     "output_type": "execute_result"
    }
   ],
   "source": [
    "model.evaluate(x_test, y_test, batch_size=batch_size)"
   ]
  },
  {
   "cell_type": "code",
   "execution_count": 113,
   "metadata": {
    "collapsed": false
   },
   "outputs": [
    {
     "name": "stdout",
     "output_type": "stream",
     "text": [
      "32/91 [=========>....................] - ETA: 0s[0 0 1 2 2 2 0 2 2 2 2 1 2 0 1 1 0 0 0 1 0 2 2 0 1 0 2 2 1 0 2 2 1 2 2 2 1\n",
      " 0 0 0 0 0 1 0 0 0 2 1 1 1 2 0 1 1 0 1 0 2 2 2 0 2 0 2 2 0 0 0 1 0 2 2 2 0\n",
      " 2 1 2 0 2 1 0 1 2 0 1 2 2 2 2 0 1]\n",
      "32/91 [=========>....................] - ETA: 0s                  precision    recall  f1-score   support\n",
      "\n",
      "class 0(tetris1)       1.00      1.00      1.00        33\n",
      "class 1(tetris2)       0.59      0.41      0.48        32\n",
      "class 2(tetris3)       0.47      0.65      0.55        26\n",
      "\n",
      "     avg / total       0.71      0.69      0.69        91\n",
      "\n",
      "[[33  0  0]\n",
      " [ 0 13 19]\n",
      " [ 0  9 17]]\n"
     ]
    }
   ],
   "source": [
    "from sklearn.metrics import classification_report,confusion_matrix\n",
    "\n",
    "y_pred = model.predict_classes(x_test)\n",
    "print(y_pred)\n",
    "\n",
    "p=model.predict_proba(x_test)\n",
    "\n",
    "#target_names = ['class 0(nback gyakorlas)', 'class 1(0back)', 'class 2(1back)', 'class 3(2back)', 'class 4(3back)']\n",
    "target_names = ['class 0(tetris1)', 'class 1(tetris2)', 'class 2(tetris3)']\n",
    "print(classification_report(np.argmax(y_test,axis=1), y_pred,target_names=target_names))\n",
    "print(confusion_matrix(np.argmax(y_test,axis=1), y_pred))"
   ]
  },
  {
   "cell_type": "code",
   "execution_count": null,
   "metadata": {
    "collapsed": true
   },
   "outputs": [],
   "source": []
  }
 ],
 "metadata": {
  "anaconda-cloud": {},
  "kernelspec": {
   "display_name": "Python [conda root]",
   "language": "python",
   "name": "conda-root-py"
  },
  "language_info": {
   "codemirror_mode": {
    "name": "ipython",
    "version": 2
   },
   "file_extension": ".py",
   "mimetype": "text/x-python",
   "name": "python",
   "nbconvert_exporter": "python",
   "pygments_lexer": "ipython2",
   "version": "2.7.12"
  }
 },
 "nbformat": 4,
 "nbformat_minor": 1
}
