{
 "cells": [
  {
   "cell_type": "code",
   "execution_count": 2,
   "metadata": {
    "collapsed": false
   },
   "outputs": [
    {
     "name": "stderr",
     "output_type": "stream",
     "text": [
      "Using TensorFlow backend.\n"
     ]
    }
   ],
   "source": [
    "from __future__ import print_function\n",
    "import os\n",
    "import numpy as np\n",
    "from numpy import newaxis\n",
    "from sklearn import preprocessing\n",
    "np.random.seed(1337)\n",
    "\n",
    "import keras\n",
    "from keras.utils.np_utils import to_categorical\n",
    "from keras.layers import Dense, Input, Flatten\n",
    "from keras.layers import Dropout\n",
    "from keras.models import Model,Sequential\n",
    "import sys\n",
    "\n",
    "import pandas as pd\n",
    "import random"
   ]
  },
  {
   "cell_type": "markdown",
   "metadata": {},
   "source": [
    "# Reading in data"
   ]
  },
  {
   "cell_type": "code",
   "execution_count": 57,
   "metadata": {
    "collapsed": false
   },
   "outputs": [
    {
     "name": "stdout",
     "output_type": "stream",
     "text": [
      "Data read started...\n",
      "Data read finished.\n",
      "(603, 11)\n"
     ]
    }
   ],
   "source": [
    "print(\"Data read started...\")\n",
    "data = pd.read_csv(\"result_tetris.csv\")\n",
    "data = data.as_matrix()\n",
    "print (\"Data read finished.\")\n",
    "#Transform data\n",
    "\n",
    "print(data.shape)"
   ]
  },
  {
   "cell_type": "markdown",
   "metadata": {},
   "source": [
    "# Eliminate EEG data"
   ]
  },
  {
   "cell_type": "code",
   "execution_count": 58,
   "metadata": {
    "collapsed": false
   },
   "outputs": [
    {
     "data": {
      "text/plain": [
       "(603, 7)"
      ]
     },
     "execution_count": 58,
     "metadata": {},
     "output_type": "execute_result"
    }
   ],
   "source": [
    "data = np.delete(data, 1, 1) #timestamp\n",
    "data = np.delete(data, 2, 1) # EEG_F3_Alpha\n",
    "data = np.delete(data, 3, 1) # EEG_F3_Beta\n",
    "data = np.delete(data, 4, 1) # EEG_F3_Theta\n",
    "\n",
    "data.shape"
   ]
  },
  {
   "cell_type": "code",
   "execution_count": 59,
   "metadata": {
    "collapsed": false
   },
   "outputs": [
    {
     "data": {
      "text/plain": [
       "array(['tetris1', 84441.0, 56966.0, 1688.7, 4.378305084745762, 335.19,\n",
       "       537.78], dtype=object)"
      ]
     },
     "execution_count": 59,
     "metadata": {},
     "output_type": "execute_result"
    }
   ],
   "source": [
    "data[1]"
   ]
  },
  {
   "cell_type": "markdown",
   "metadata": {},
   "source": [
    "# Dictionary for the levels"
   ]
  },
  {
   "cell_type": "code",
   "execution_count": 64,
   "metadata": {
    "collapsed": true
   },
   "outputs": [],
   "source": [
    "#level=[\"nback gyakorlas\",\"0back\",\"1back\",\"2back\",\"3back\"]\n",
    "level=[\"tetris1\",\"tetris2\",\"tetris3\"]\n",
    "level2int = dict((p, i) for i, p in enumerate(level))\n",
    "int2level = dict((i, p) for i, p in enumerate(level))"
   ]
  },
  {
   "cell_type": "markdown",
   "metadata": {},
   "source": [
    "# Z normalize"
   ]
  },
  {
   "cell_type": "code",
   "execution_count": 61,
   "metadata": {
    "collapsed": false
   },
   "outputs": [
    {
     "name": "stderr",
     "output_type": "stream",
     "text": [
      "/home/amoro/anaconda2/lib/python2.7/site-packages/sklearn/utils/validation.py:420: DataConversionWarning: Data with input dtype object was converted to float64 by the scale function.\n",
      "  warnings.warn(msg, DataConversionWarning)\n",
      "/home/amoro/anaconda2/lib/python2.7/site-packages/sklearn/utils/validation.py:420: DataConversionWarning: Data with input dtype object was converted to float64 by the scale function.\n",
      "  warnings.warn(msg, DataConversionWarning)\n",
      "/home/amoro/anaconda2/lib/python2.7/site-packages/sklearn/utils/validation.py:420: DataConversionWarning: Data with input dtype object was converted to float64 by the scale function.\n",
      "  warnings.warn(msg, DataConversionWarning)\n",
      "/home/amoro/anaconda2/lib/python2.7/site-packages/sklearn/utils/validation.py:420: DataConversionWarning: Data with input dtype object was converted to float64 by the scale function.\n",
      "  warnings.warn(msg, DataConversionWarning)\n",
      "/home/amoro/anaconda2/lib/python2.7/site-packages/sklearn/utils/validation.py:420: DataConversionWarning: Data with input dtype object was converted to float64 by the scale function.\n",
      "  warnings.warn(msg, DataConversionWarning)\n",
      "/home/amoro/anaconda2/lib/python2.7/site-packages/sklearn/utils/validation.py:420: DataConversionWarning: Data with input dtype object was converted to float64 by the scale function.\n",
      "  warnings.warn(msg, DataConversionWarning)\n"
     ]
    }
   ],
   "source": [
    "data[:, 1] = preprocessing.scale(data[:, 1])\n",
    "data[:, 2] = preprocessing.scale(data[:, 2])\n",
    "data[:, 3] = preprocessing.scale(data[:, 3])\n",
    "data[:, 4] = preprocessing.scale(data[:, 4])\n",
    "data[:, 5] = preprocessing.scale(data[:, 5])\n",
    "data[:, 6] = preprocessing.scale(data[:, 6])"
   ]
  },
  {
   "cell_type": "code",
   "execution_count": 62,
   "metadata": {
    "collapsed": false
   },
   "outputs": [],
   "source": [
    "for i in range(len(data)):\n",
    "    data[i, 0] = level2int[data[i, 0]]\n",
    "\n",
    "x_data = data[:, 1:]\n",
    "y_data = data[:, 0]"
   ]
  },
  {
   "cell_type": "markdown",
   "metadata": {},
   "source": [
    "# One-hot encoding"
   ]
  },
  {
   "cell_type": "code",
   "execution_count": 63,
   "metadata": {
    "collapsed": false
   },
   "outputs": [
    {
     "name": "stdout",
     "output_type": "stream",
     "text": [
      "[[ 1.  0.  0.]\n",
      " [ 1.  0.  0.]\n",
      " [ 1.  0.  0.]\n",
      " ..., \n",
      " [ 0.  0.  1.]\n",
      " [ 0.  0.  1.]\n",
      " [ 0.  0.  1.]]\n"
     ]
    }
   ],
   "source": [
    "from sklearn.preprocessing import OneHotEncoder\n",
    "\n",
    "ohe = OneHotEncoder()\n",
    "y_one_hot = ohe.fit_transform(y_data.reshape(-1,1)).toarray()\n",
    "print(y_one_hot)"
   ]
  },
  {
   "cell_type": "markdown",
   "metadata": {},
   "source": [
    "# Shuffle data"
   ]
  },
  {
   "cell_type": "code",
   "execution_count": 65,
   "metadata": {
    "collapsed": true
   },
   "outputs": [],
   "source": [
    "indices = np.arange(x_data.shape[0])\n",
    "np.random.shuffle(indices)\n",
    "\n",
    "x_data = x_data[indices]\n",
    "y_one_hot = y_one_hot[indices]"
   ]
  },
  {
   "cell_type": "markdown",
   "metadata": {},
   "source": [
    "# Divide into train, validation and test data"
   ]
  },
  {
   "cell_type": "code",
   "execution_count": 66,
   "metadata": {
    "collapsed": true
   },
   "outputs": [],
   "source": [
    "len_data = len(x_data)\n",
    "\n",
    "nb_test = int(len_data*0.15)\n",
    "nb_validation = int(len_data*0.15)\n",
    "nb_train = int(len_data*0.7)\n",
    "\n",
    "end_valid = nb_train+nb_validation\n",
    "\n",
    "x_train = x_data[0:nb_train]\n",
    "y_train = y_one_hot[0:nb_train]\n",
    "\n",
    "x_valid = x_data[nb_train:end_valid]\n",
    "y_valid = y_one_hot[nb_train:end_valid]\n",
    "\n",
    "x_test = x_data[end_valid:]\n",
    "y_test = y_one_hot[end_valid:]"
   ]
  },
  {
   "cell_type": "code",
   "execution_count": 67,
   "metadata": {
    "collapsed": false
   },
   "outputs": [
    {
     "name": "stdout",
     "output_type": "stream",
     "text": [
      "(422, 6) (422, 3) (90, 6) (90, 3) (91, 6) (91, 3)\n"
     ]
    }
   ],
   "source": [
    "print(x_train.shape, y_train.shape, x_valid.shape, y_valid.shape, x_test.shape, y_test.shape)"
   ]
  },
  {
   "cell_type": "markdown",
   "metadata": {},
   "source": [
    "# Build the net"
   ]
  },
  {
   "cell_type": "code",
   "execution_count": 70,
   "metadata": {
    "collapsed": false
   },
   "outputs": [],
   "source": [
    "model = Sequential()\n",
    "\n",
    "model.add(Dense(200, input_shape=(6,)))\n",
    "model.add(Dropout(0.25))\n",
    "model.add(Dense(200, activation='relu'))\n",
    "model.add(Dropout(0.25))\n",
    "model.add(Dense(200, activation='relu'))\n",
    "model.add(Dropout(0.25))\n",
    "model.add(Dense(3, activation='softmax'))"
   ]
  },
  {
   "cell_type": "code",
   "execution_count": 73,
   "metadata": {
    "collapsed": false
   },
   "outputs": [
    {
     "name": "stdout",
     "output_type": "stream",
     "text": [
      "Train on 422 samples, validate on 90 samples\n",
      "Epoch 1/150\n",
      "422/422 [==============================] - 0s - loss: 0.4291 - acc: 0.7346 - val_loss: 0.4723 - val_acc: 0.6778\n",
      "Epoch 2/150\n",
      "422/422 [==============================] - 0s - loss: 0.4134 - acc: 0.7346 - val_loss: 0.4609 - val_acc: 0.7222\n",
      "Epoch 3/150\n",
      "422/422 [==============================] - 0s - loss: 0.3967 - acc: 0.7701 - val_loss: 0.4719 - val_acc: 0.6889\n",
      "Epoch 4/150\n",
      "422/422 [==============================] - 0s - loss: 0.4001 - acc: 0.7630 - val_loss: 0.4768 - val_acc: 0.7111\n",
      "Epoch 5/150\n",
      "422/422 [==============================] - 0s - loss: 0.4146 - acc: 0.7085 - val_loss: 0.4708 - val_acc: 0.6556\n",
      "Epoch 6/150\n",
      "422/422 [==============================] - 0s - loss: 0.4090 - acc: 0.7559 - val_loss: 0.4799 - val_acc: 0.6889\n",
      "Epoch 7/150\n",
      "422/422 [==============================] - 0s - loss: 0.4029 - acc: 0.7678 - val_loss: 0.4605 - val_acc: 0.7111\n",
      "Epoch 8/150\n",
      "422/422 [==============================] - 0s - loss: 0.4069 - acc: 0.7488 - val_loss: 0.4629 - val_acc: 0.7000\n",
      "Epoch 9/150\n",
      "422/422 [==============================] - 0s - loss: 0.4014 - acc: 0.7370 - val_loss: 0.4707 - val_acc: 0.6889\n",
      "Epoch 10/150\n",
      "422/422 [==============================] - 0s - loss: 0.3971 - acc: 0.7915 - val_loss: 0.4663 - val_acc: 0.6778\n",
      "Epoch 11/150\n",
      "422/422 [==============================] - 0s - loss: 0.3891 - acc: 0.7417 - val_loss: 0.4613 - val_acc: 0.7000\n",
      "Epoch 12/150\n",
      "422/422 [==============================] - 0s - loss: 0.3919 - acc: 0.7654 - val_loss: 0.4648 - val_acc: 0.7111\n",
      "Epoch 13/150\n",
      "422/422 [==============================] - 0s - loss: 0.3788 - acc: 0.7891 - val_loss: 0.4697 - val_acc: 0.7111\n",
      "Epoch 14/150\n",
      "422/422 [==============================] - 0s - loss: 0.4057 - acc: 0.7583 - val_loss: 0.4663 - val_acc: 0.7000\n",
      "Epoch 15/150\n",
      "422/422 [==============================] - 0s - loss: 0.3928 - acc: 0.7701 - val_loss: 0.4640 - val_acc: 0.7000\n",
      "Epoch 16/150\n",
      "422/422 [==============================] - 0s - loss: 0.4107 - acc: 0.7441 - val_loss: 0.4536 - val_acc: 0.7111\n",
      "Epoch 17/150\n",
      "422/422 [==============================] - 0s - loss: 0.3805 - acc: 0.7796 - val_loss: 0.4655 - val_acc: 0.6889\n",
      "Epoch 18/150\n",
      "422/422 [==============================] - 0s - loss: 0.3963 - acc: 0.7701 - val_loss: 0.4775 - val_acc: 0.7222\n",
      "Epoch 19/150\n",
      "422/422 [==============================] - 0s - loss: 0.3919 - acc: 0.7630 - val_loss: 0.4569 - val_acc: 0.6889\n",
      "Epoch 20/150\n",
      "422/422 [==============================] - 0s - loss: 0.3865 - acc: 0.7583 - val_loss: 0.4536 - val_acc: 0.7000\n",
      "Epoch 21/150\n",
      "422/422 [==============================] - 0s - loss: 0.3788 - acc: 0.7796 - val_loss: 0.4591 - val_acc: 0.7111\n",
      "Epoch 22/150\n",
      "422/422 [==============================] - 0s - loss: 0.3692 - acc: 0.7654 - val_loss: 0.4703 - val_acc: 0.7111\n",
      "Epoch 23/150\n",
      "422/422 [==============================] - 0s - loss: 0.3916 - acc: 0.7773 - val_loss: 0.4765 - val_acc: 0.7111\n",
      "Epoch 24/150\n",
      "422/422 [==============================] - 0s - loss: 0.3886 - acc: 0.7488 - val_loss: 0.4663 - val_acc: 0.7000\n",
      "Epoch 25/150\n",
      "422/422 [==============================] - 0s - loss: 0.3863 - acc: 0.7488 - val_loss: 0.4651 - val_acc: 0.7222\n",
      "Epoch 26/150\n",
      "422/422 [==============================] - 0s - loss: 0.3845 - acc: 0.7701 - val_loss: 0.4673 - val_acc: 0.7111\n",
      "Epoch 27/150\n",
      "422/422 [==============================] - 0s - loss: 0.3842 - acc: 0.7512 - val_loss: 0.4539 - val_acc: 0.7222\n",
      "Epoch 28/150\n",
      "422/422 [==============================] - 0s - loss: 0.3714 - acc: 0.7820 - val_loss: 0.4625 - val_acc: 0.7111\n",
      "Epoch 29/150\n",
      "422/422 [==============================] - 0s - loss: 0.3698 - acc: 0.7607 - val_loss: 0.4532 - val_acc: 0.7000\n",
      "Epoch 30/150\n",
      "422/422 [==============================] - 0s - loss: 0.3748 - acc: 0.7654 - val_loss: 0.4613 - val_acc: 0.7222\n",
      "Epoch 31/150\n",
      "422/422 [==============================] - 0s - loss: 0.3652 - acc: 0.7820 - val_loss: 0.4554 - val_acc: 0.7222\n",
      "Epoch 32/150\n",
      "422/422 [==============================] - 0s - loss: 0.3718 - acc: 0.7512 - val_loss: 0.4544 - val_acc: 0.7000\n",
      "Epoch 33/150\n",
      "422/422 [==============================] - 0s - loss: 0.3653 - acc: 0.7820 - val_loss: 0.4690 - val_acc: 0.7000\n",
      "Epoch 34/150\n",
      "422/422 [==============================] - 0s - loss: 0.3637 - acc: 0.7820 - val_loss: 0.4577 - val_acc: 0.7444\n",
      "Epoch 35/150\n",
      "422/422 [==============================] - 0s - loss: 0.3712 - acc: 0.7583 - val_loss: 0.4474 - val_acc: 0.7222\n",
      "Epoch 36/150\n",
      "422/422 [==============================] - 0s - loss: 0.3700 - acc: 0.7915 - val_loss: 0.4695 - val_acc: 0.7111\n",
      "Epoch 37/150\n",
      "422/422 [==============================] - 0s - loss: 0.3750 - acc: 0.7773 - val_loss: 0.4755 - val_acc: 0.7111\n",
      "Epoch 38/150\n",
      "422/422 [==============================] - 0s - loss: 0.3887 - acc: 0.7701 - val_loss: 0.4528 - val_acc: 0.7222\n",
      "Epoch 39/150\n",
      "422/422 [==============================] - 0s - loss: 0.3600 - acc: 0.8057 - val_loss: 0.4680 - val_acc: 0.7222\n",
      "Epoch 40/150\n",
      "422/422 [==============================] - 0s - loss: 0.4102 - acc: 0.7583 - val_loss: 0.4607 - val_acc: 0.7222\n",
      "Epoch 41/150\n",
      "422/422 [==============================] - 0s - loss: 0.3657 - acc: 0.7654 - val_loss: 0.4559 - val_acc: 0.7222\n",
      "Epoch 42/150\n",
      "422/422 [==============================] - 0s - loss: 0.3627 - acc: 0.8009 - val_loss: 0.4587 - val_acc: 0.7333\n",
      "Epoch 43/150\n",
      "422/422 [==============================] - 0s - loss: 0.3619 - acc: 0.8033 - val_loss: 0.4599 - val_acc: 0.7444\n",
      "Epoch 44/150\n",
      "422/422 [==============================] - 0s - loss: 0.4087 - acc: 0.7678 - val_loss: 0.4558 - val_acc: 0.7333\n",
      "Epoch 45/150\n",
      "422/422 [==============================] - 0s - loss: 0.3596 - acc: 0.7654 - val_loss: 0.4536 - val_acc: 0.7222\n",
      "Epoch 46/150\n",
      "422/422 [==============================] - 0s - loss: 0.3659 - acc: 0.7796 - val_loss: 0.4579 - val_acc: 0.7444\n",
      "Epoch 47/150\n",
      "422/422 [==============================] - 0s - loss: 0.3568 - acc: 0.7891 - val_loss: 0.4591 - val_acc: 0.7222\n",
      "Epoch 48/150\n",
      "422/422 [==============================] - 0s - loss: 0.3625 - acc: 0.7844 - val_loss: 0.4558 - val_acc: 0.7000\n",
      "Epoch 49/150\n",
      "422/422 [==============================] - 0s - loss: 0.3714 - acc: 0.7773 - val_loss: 0.4669 - val_acc: 0.7333\n",
      "Epoch 50/150\n",
      "422/422 [==============================] - 0s - loss: 0.3576 - acc: 0.8009 - val_loss: 0.4496 - val_acc: 0.7111\n",
      "Epoch 51/150\n",
      "422/422 [==============================] - 0s - loss: 0.3569 - acc: 0.7867 - val_loss: 0.4529 - val_acc: 0.7444\n"
     ]
    },
    {
     "data": {
      "text/plain": [
       "<keras.callbacks.History at 0x7fbe56f93d50>"
      ]
     },
     "execution_count": 73,
     "metadata": {},
     "output_type": "execute_result"
    }
   ],
   "source": [
    "batch_size = 50\n",
    "epochs = 150\n",
    "earlyStopping=keras.callbacks.EarlyStopping(monitor='val_loss', patience=15, verbose=0, mode='auto')\n",
    "\n",
    "model.compile(loss='categorical_crossentropy',optimizer='adam',metrics=['acc'])\n",
    "model.fit(x_train, y_train, nb_epoch=epochs,batch_size=batch_size, \n",
    "          callbacks=[earlyStopping], shuffle=True, validation_data = (x_valid, y_valid))"
   ]
  },
  {
   "cell_type": "code",
   "execution_count": 74,
   "metadata": {
    "collapsed": false
   },
   "outputs": [
    {
     "name": "stdout",
     "output_type": "stream",
     "text": [
      "91/91 [==============================] - 0s     \n"
     ]
    },
    {
     "data": {
      "text/plain": [
       "[0.38045224776634801, 0.78021977825479194]"
      ]
     },
     "execution_count": 74,
     "metadata": {},
     "output_type": "execute_result"
    }
   ],
   "source": [
    "model.evaluate(x_test, y_test, batch_size=batch_size)"
   ]
  },
  {
   "cell_type": "code",
   "execution_count": null,
   "metadata": {
    "collapsed": true
   },
   "outputs": [],
   "source": []
  }
 ],
 "metadata": {
  "anaconda-cloud": {},
  "kernelspec": {
   "display_name": "Python [conda root]",
   "language": "python",
   "name": "conda-root-py"
  },
  "language_info": {
   "codemirror_mode": {
    "name": "ipython",
    "version": 2
   },
   "file_extension": ".py",
   "mimetype": "text/x-python",
   "name": "python",
   "nbconvert_exporter": "python",
   "pygments_lexer": "ipython2",
   "version": "2.7.12"
  }
 },
 "nbformat": 4,
 "nbformat_minor": 1
}
