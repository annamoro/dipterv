{
 "cells": [
  {
   "cell_type": "code",
   "execution_count": 1,
   "metadata": {
    "collapsed": false
   },
   "outputs": [
    {
     "name": "stderr",
     "output_type": "stream",
     "text": [
      "Using TensorFlow backend.\n"
     ]
    }
   ],
   "source": [
    "from __future__ import print_function\n",
    "import os\n",
    "import numpy as np\n",
    "from numpy import newaxis\n",
    "from sklearn import preprocessing\n",
    "np.random.seed(1337)\n",
    "\n",
    "import keras\n",
    "from keras.utils.np_utils import to_categorical\n",
    "from keras.layers import Dense, Input, Flatten\n",
    "from keras.layers import Dropout\n",
    "from keras.models import Model,Sequential\n",
    "import sys\n",
    "\n",
    "import pandas as pd\n",
    "import random"
   ]
  },
  {
   "cell_type": "markdown",
   "metadata": {},
   "source": [
    "# Reading in data"
   ]
  },
  {
   "cell_type": "code",
   "execution_count": 2,
   "metadata": {
    "collapsed": false
   },
   "outputs": [
    {
     "name": "stdout",
     "output_type": "stream",
     "text": [
      "Data read started...\n",
      "Data read finished.\n",
      "(828, 11)\n"
     ]
    }
   ],
   "source": [
    "print(\"Data read started...\")\n",
    "data = pd.read_csv(\"result_nback.csv\")\n",
    "data = data.as_matrix()\n",
    "print (\"Data read finished.\")\n",
    "\n",
    "print(data.shape)"
   ]
  },
  {
   "cell_type": "markdown",
   "metadata": {},
   "source": [
    "# Eliminate EEG data"
   ]
  },
  {
   "cell_type": "code",
   "execution_count": 3,
   "metadata": {
    "collapsed": false
   },
   "outputs": [
    {
     "data": {
      "text/plain": [
       "(828, 7)"
      ]
     },
     "execution_count": 3,
     "metadata": {},
     "output_type": "execute_result"
    }
   ],
   "source": [
    "for i in range (1,5):\n",
    "    data = np.delete(data, i, 1) \n",
    "\n",
    "data.shape"
   ]
  },
  {
   "cell_type": "code",
   "execution_count": 4,
   "metadata": {
    "collapsed": false
   },
   "outputs": [
    {
     "data": {
      "text/plain": [
       "array(['nback gyakorlas', 286880.0, 170520.0, 933.41, 4.9275, 307.67,\n",
       "       343.79], dtype=object)"
      ]
     },
     "execution_count": 4,
     "metadata": {},
     "output_type": "execute_result"
    }
   ],
   "source": [
    "data[1]"
   ]
  },
  {
   "cell_type": "markdown",
   "metadata": {},
   "source": [
    "# Dictionary for the levels"
   ]
  },
  {
   "cell_type": "code",
   "execution_count": 5,
   "metadata": {
    "collapsed": true
   },
   "outputs": [],
   "source": [
    "level=[\"nback gyakorlas\",\"0back\",\"1back\",\"2back\",\"3back\"]\n",
    "#level=[\"tetris1\",\"tetris2\",\"tetris3\"]\n",
    "level2int = dict((p, i) for i, p in enumerate(level))\n",
    "int2level = dict((i, p) for i, p in enumerate(level))"
   ]
  },
  {
   "cell_type": "markdown",
   "metadata": {},
   "source": [
    "# Z normalize"
   ]
  },
  {
   "cell_type": "code",
   "execution_count": 6,
   "metadata": {
    "collapsed": false
   },
   "outputs": [
    {
     "name": "stderr",
     "output_type": "stream",
     "text": [
      "/home/amoro/anaconda2/lib/python2.7/site-packages/sklearn/utils/validation.py:420: DataConversionWarning: Data with input dtype object was converted to float64 by the scale function.\n",
      "  warnings.warn(msg, DataConversionWarning)\n",
      "/home/amoro/anaconda2/lib/python2.7/site-packages/sklearn/utils/validation.py:420: DataConversionWarning: Data with input dtype object was converted to float64 by the scale function.\n",
      "  warnings.warn(msg, DataConversionWarning)\n",
      "/home/amoro/anaconda2/lib/python2.7/site-packages/sklearn/utils/validation.py:420: DataConversionWarning: Data with input dtype object was converted to float64 by the scale function.\n",
      "  warnings.warn(msg, DataConversionWarning)\n",
      "/home/amoro/anaconda2/lib/python2.7/site-packages/sklearn/utils/validation.py:420: DataConversionWarning: Data with input dtype object was converted to float64 by the scale function.\n",
      "  warnings.warn(msg, DataConversionWarning)\n",
      "/home/amoro/anaconda2/lib/python2.7/site-packages/sklearn/utils/validation.py:420: DataConversionWarning: Data with input dtype object was converted to float64 by the scale function.\n",
      "  warnings.warn(msg, DataConversionWarning)\n",
      "/home/amoro/anaconda2/lib/python2.7/site-packages/sklearn/utils/validation.py:420: DataConversionWarning: Data with input dtype object was converted to float64 by the scale function.\n",
      "  warnings.warn(msg, DataConversionWarning)\n"
     ]
    }
   ],
   "source": [
    "for i in range (1,7):\n",
    "    data[:, i] = preprocessing.scale(data[:, i])"
   ]
  },
  {
   "cell_type": "code",
   "execution_count": 7,
   "metadata": {
    "collapsed": false
   },
   "outputs": [],
   "source": [
    "for i in range(len(data)):\n",
    "    data[i, 0] = level2int[data[i, 0]]\n",
    "\n",
    "x_data = data[:, 1:]\n",
    "y_data = data[:, 0]"
   ]
  },
  {
   "cell_type": "markdown",
   "metadata": {},
   "source": [
    "# One-hot encoding"
   ]
  },
  {
   "cell_type": "code",
   "execution_count": 8,
   "metadata": {
    "collapsed": false
   },
   "outputs": [
    {
     "name": "stdout",
     "output_type": "stream",
     "text": [
      "[[ 1.  0.  0.  0.  0.]\n",
      " [ 1.  0.  0.  0.  0.]\n",
      " [ 1.  0.  0.  0.  0.]\n",
      " ..., \n",
      " [ 0.  0.  0.  0.  1.]\n",
      " [ 0.  0.  0.  0.  1.]\n",
      " [ 0.  0.  0.  0.  1.]]\n"
     ]
    }
   ],
   "source": [
    "from sklearn.preprocessing import OneHotEncoder\n",
    "\n",
    "ohe = OneHotEncoder()\n",
    "y_one_hot = ohe.fit_transform(y_data.reshape(-1,1)).toarray()\n",
    "print(y_one_hot)"
   ]
  },
  {
   "cell_type": "markdown",
   "metadata": {},
   "source": [
    "# Shuffle data"
   ]
  },
  {
   "cell_type": "code",
   "execution_count": 9,
   "metadata": {
    "collapsed": true
   },
   "outputs": [],
   "source": [
    "indices = np.arange(x_data.shape[0])\n",
    "np.random.shuffle(indices)\n",
    "\n",
    "x_data = x_data[indices]\n",
    "y_one_hot = y_one_hot[indices]"
   ]
  },
  {
   "cell_type": "markdown",
   "metadata": {},
   "source": [
    "# Divide into train, validation and test data"
   ]
  },
  {
   "cell_type": "code",
   "execution_count": 10,
   "metadata": {
    "collapsed": true
   },
   "outputs": [],
   "source": [
    "len_data = len(x_data)\n",
    "\n",
    "nb_test = int(len_data*0.15)\n",
    "nb_validation = int(len_data*0.15)\n",
    "nb_train = int(len_data*0.7)\n",
    "\n",
    "end_valid = nb_train+nb_validation\n",
    "\n",
    "x_train = x_data[0:nb_train]\n",
    "y_train = y_one_hot[0:nb_train]\n",
    "\n",
    "x_valid = x_data[nb_train:end_valid]\n",
    "y_valid = y_one_hot[nb_train:end_valid]\n",
    "\n",
    "x_test = x_data[end_valid:]\n",
    "y_test = y_one_hot[end_valid:]"
   ]
  },
  {
   "cell_type": "code",
   "execution_count": 11,
   "metadata": {
    "collapsed": false
   },
   "outputs": [
    {
     "name": "stdout",
     "output_type": "stream",
     "text": [
      "(579, 6) (579, 5) (124, 6) (124, 5) (125, 6) (125, 5)\n"
     ]
    }
   ],
   "source": [
    "print(x_train.shape, y_train.shape, x_valid.shape, y_valid.shape, x_test.shape, y_test.shape)"
   ]
  },
  {
   "cell_type": "markdown",
   "metadata": {},
   "source": [
    "# Build the net"
   ]
  },
  {
   "cell_type": "code",
   "execution_count": 14,
   "metadata": {
    "collapsed": false
   },
   "outputs": [],
   "source": [
    "model = Sequential()\n",
    "\n",
    "model.add(Dense(200, input_shape=(6,)))\n",
    "model.add(Dropout(0.15))\n",
    "model.add(Dense(200, activation='relu'))\n",
    "model.add(Dense(200, activation='relu'))\n",
    "model.add(Dropout(0.25))\n",
    "model.add(Dense(5, activation='softmax'))"
   ]
  },
  {
   "cell_type": "code",
   "execution_count": 15,
   "metadata": {
    "collapsed": false
   },
   "outputs": [
    {
     "name": "stdout",
     "output_type": "stream",
     "text": [
      "Train on 579 samples, validate on 124 samples\n",
      "Epoch 1/150\n",
      "579/579 [==============================] - 0s - loss: 1.4965 - acc: 0.3523 - val_loss: 1.3735 - val_acc: 0.3629\n",
      "Epoch 2/150\n",
      "579/579 [==============================] - 0s - loss: 1.3574 - acc: 0.4180 - val_loss: 1.2880 - val_acc: 0.4597\n",
      "Epoch 3/150\n",
      "579/579 [==============================] - 0s - loss: 1.2925 - acc: 0.4698 - val_loss: 1.2478 - val_acc: 0.4597\n",
      "Epoch 4/150\n",
      "579/579 [==============================] - 0s - loss: 1.2419 - acc: 0.4750 - val_loss: 1.1938 - val_acc: 0.5161\n",
      "Epoch 5/150\n",
      "579/579 [==============================] - 0s - loss: 1.2052 - acc: 0.4991 - val_loss: 1.1590 - val_acc: 0.5000\n",
      "Epoch 6/150\n",
      "579/579 [==============================] - 0s - loss: 1.1692 - acc: 0.5181 - val_loss: 1.0899 - val_acc: 0.4919\n",
      "Epoch 7/150\n",
      "579/579 [==============================] - 0s - loss: 1.1251 - acc: 0.5302 - val_loss: 1.0904 - val_acc: 0.5565\n",
      "Epoch 8/150\n",
      "579/579 [==============================] - 0s - loss: 1.0903 - acc: 0.5492 - val_loss: 1.0311 - val_acc: 0.5242\n",
      "Epoch 9/150\n",
      "579/579 [==============================] - 0s - loss: 1.0693 - acc: 0.5440 - val_loss: 1.0153 - val_acc: 0.5484\n",
      "Epoch 10/150\n",
      "579/579 [==============================] - 0s - loss: 1.0217 - acc: 0.5769 - val_loss: 1.0033 - val_acc: 0.5484\n",
      "Epoch 11/150\n",
      "579/579 [==============================] - 0s - loss: 0.9985 - acc: 0.5769 - val_loss: 1.0474 - val_acc: 0.5323\n",
      "Epoch 12/150\n",
      "579/579 [==============================] - 0s - loss: 1.0019 - acc: 0.5682 - val_loss: 0.9447 - val_acc: 0.6129\n",
      "Epoch 13/150\n",
      "579/579 [==============================] - 0s - loss: 0.9295 - acc: 0.6321 - val_loss: 0.9507 - val_acc: 0.5887\n",
      "Epoch 14/150\n",
      "579/579 [==============================] - 0s - loss: 0.9324 - acc: 0.6149 - val_loss: 0.9634 - val_acc: 0.5645\n",
      "Epoch 15/150\n",
      "579/579 [==============================] - 0s - loss: 0.9363 - acc: 0.6166 - val_loss: 0.8873 - val_acc: 0.6371\n",
      "Epoch 16/150\n",
      "579/579 [==============================] - 0s - loss: 0.8855 - acc: 0.6390 - val_loss: 0.8511 - val_acc: 0.6613\n",
      "Epoch 17/150\n",
      "579/579 [==============================] - 0s - loss: 0.8767 - acc: 0.6339 - val_loss: 0.8780 - val_acc: 0.5968\n",
      "Epoch 18/150\n",
      "579/579 [==============================] - 0s - loss: 0.9069 - acc: 0.6183 - val_loss: 0.8538 - val_acc: 0.6371\n",
      "Epoch 19/150\n",
      "579/579 [==============================] - 0s - loss: 0.8984 - acc: 0.6425 - val_loss: 0.8768 - val_acc: 0.6613\n",
      "Epoch 20/150\n",
      "579/579 [==============================] - 0s - loss: 0.8170 - acc: 0.6874 - val_loss: 0.7830 - val_acc: 0.6694\n",
      "Epoch 21/150\n",
      "579/579 [==============================] - 0s - loss: 0.7719 - acc: 0.7116 - val_loss: 0.8013 - val_acc: 0.6532\n",
      "Epoch 22/150\n",
      "579/579 [==============================] - 0s - loss: 0.7659 - acc: 0.6943 - val_loss: 0.7712 - val_acc: 0.6532\n",
      "Epoch 23/150\n",
      "579/579 [==============================] - 0s - loss: 0.7668 - acc: 0.6926 - val_loss: 0.7885 - val_acc: 0.6774\n",
      "Epoch 24/150\n",
      "579/579 [==============================] - 0s - loss: 0.7571 - acc: 0.6805 - val_loss: 0.8398 - val_acc: 0.6452\n",
      "Epoch 25/150\n",
      "579/579 [==============================] - 0s - loss: 0.7522 - acc: 0.6978 - val_loss: 0.8013 - val_acc: 0.6532\n",
      "Epoch 26/150\n",
      "579/579 [==============================] - 0s - loss: 0.7525 - acc: 0.7098 - val_loss: 0.7354 - val_acc: 0.6855\n",
      "Epoch 27/150\n",
      "579/579 [==============================] - 0s - loss: 0.6892 - acc: 0.7012 - val_loss: 0.7429 - val_acc: 0.6774\n",
      "Epoch 28/150\n",
      "579/579 [==============================] - 0s - loss: 0.6940 - acc: 0.7409 - val_loss: 0.6951 - val_acc: 0.7177\n",
      "Epoch 29/150\n",
      "579/579 [==============================] - 0s - loss: 0.6870 - acc: 0.7323 - val_loss: 0.8164 - val_acc: 0.6290\n",
      "Epoch 30/150\n",
      "579/579 [==============================] - 0s - loss: 0.6915 - acc: 0.7340 - val_loss: 0.7457 - val_acc: 0.7258\n",
      "Epoch 31/150\n",
      "579/579 [==============================] - 0s - loss: 0.6922 - acc: 0.7202 - val_loss: 0.7198 - val_acc: 0.6855\n",
      "Epoch 32/150\n",
      "579/579 [==============================] - 0s - loss: 0.6532 - acc: 0.7513 - val_loss: 0.6825 - val_acc: 0.7339\n",
      "Epoch 33/150\n",
      "579/579 [==============================] - 0s - loss: 0.6449 - acc: 0.7392 - val_loss: 0.6843 - val_acc: 0.6774\n",
      "Epoch 34/150\n",
      "579/579 [==============================] - 0s - loss: 0.6316 - acc: 0.7496 - val_loss: 0.6665 - val_acc: 0.6855\n",
      "Epoch 35/150\n",
      "579/579 [==============================] - 0s - loss: 0.6040 - acc: 0.7478 - val_loss: 0.6844 - val_acc: 0.7258\n",
      "Epoch 36/150\n",
      "579/579 [==============================] - 0s - loss: 0.6009 - acc: 0.7547 - val_loss: 0.7017 - val_acc: 0.6935\n",
      "Epoch 37/150\n",
      "579/579 [==============================] - 0s - loss: 0.6390 - acc: 0.7478 - val_loss: 0.6257 - val_acc: 0.7097\n",
      "Epoch 38/150\n",
      "579/579 [==============================] - 0s - loss: 0.6012 - acc: 0.7686 - val_loss: 0.6547 - val_acc: 0.7823\n",
      "Epoch 39/150\n",
      "579/579 [==============================] - 0s - loss: 0.6221 - acc: 0.7237 - val_loss: 0.6539 - val_acc: 0.7097\n",
      "Epoch 40/150\n",
      "579/579 [==============================] - 0s - loss: 0.6019 - acc: 0.7686 - val_loss: 0.6403 - val_acc: 0.7500\n",
      "Epoch 41/150\n",
      "579/579 [==============================] - 0s - loss: 0.5737 - acc: 0.7617 - val_loss: 0.6255 - val_acc: 0.7258\n",
      "Epoch 42/150\n",
      "579/579 [==============================] - 0s - loss: 0.6140 - acc: 0.7582 - val_loss: 0.6338 - val_acc: 0.7339\n",
      "Epoch 43/150\n",
      "579/579 [==============================] - 0s - loss: 0.6022 - acc: 0.7565 - val_loss: 0.5837 - val_acc: 0.7581\n",
      "Epoch 44/150\n",
      "579/579 [==============================] - 0s - loss: 0.5898 - acc: 0.7599 - val_loss: 0.6164 - val_acc: 0.7177\n",
      "Epoch 45/150\n",
      "579/579 [==============================] - 0s - loss: 0.5682 - acc: 0.7720 - val_loss: 0.5742 - val_acc: 0.7742\n",
      "Epoch 46/150\n",
      "579/579 [==============================] - 0s - loss: 0.5366 - acc: 0.7858 - val_loss: 0.6141 - val_acc: 0.7500\n",
      "Epoch 47/150\n",
      "579/579 [==============================] - 0s - loss: 0.5344 - acc: 0.7824 - val_loss: 0.6094 - val_acc: 0.7823\n",
      "Epoch 48/150\n",
      "579/579 [==============================] - 0s - loss: 0.5458 - acc: 0.7841 - val_loss: 0.5782 - val_acc: 0.7581\n",
      "Epoch 49/150\n",
      "579/579 [==============================] - 0s - loss: 0.5198 - acc: 0.7824 - val_loss: 0.5652 - val_acc: 0.7984\n",
      "Epoch 50/150\n",
      "579/579 [==============================] - 0s - loss: 0.5215 - acc: 0.7927 - val_loss: 0.5881 - val_acc: 0.7984\n",
      "Epoch 51/150\n",
      "579/579 [==============================] - 0s - loss: 0.5013 - acc: 0.7997 - val_loss: 0.5657 - val_acc: 0.7742\n",
      "Epoch 52/150\n",
      "579/579 [==============================] - 0s - loss: 0.5619 - acc: 0.7755 - val_loss: 0.5558 - val_acc: 0.7742\n",
      "Epoch 53/150\n",
      "579/579 [==============================] - 0s - loss: 0.5396 - acc: 0.7841 - val_loss: 0.5998 - val_acc: 0.7339\n",
      "Epoch 54/150\n",
      "579/579 [==============================] - 0s - loss: 0.5289 - acc: 0.7962 - val_loss: 0.5545 - val_acc: 0.8226\n",
      "Epoch 55/150\n",
      "579/579 [==============================] - 0s - loss: 0.4878 - acc: 0.7893 - val_loss: 0.5494 - val_acc: 0.8145\n",
      "Epoch 56/150\n",
      "579/579 [==============================] - 0s - loss: 0.5043 - acc: 0.8083 - val_loss: 0.5537 - val_acc: 0.7661\n",
      "Epoch 57/150\n",
      "579/579 [==============================] - 0s - loss: 0.5204 - acc: 0.7893 - val_loss: 0.5593 - val_acc: 0.7984\n",
      "Epoch 58/150\n",
      "579/579 [==============================] - 0s - loss: 0.5401 - acc: 0.7651 - val_loss: 0.6524 - val_acc: 0.7419\n",
      "Epoch 59/150\n",
      "579/579 [==============================] - 0s - loss: 0.4945 - acc: 0.7858 - val_loss: 0.5702 - val_acc: 0.7742\n",
      "Epoch 60/150\n",
      "579/579 [==============================] - 0s - loss: 0.5152 - acc: 0.7807 - val_loss: 0.6006 - val_acc: 0.7903\n",
      "Epoch 61/150\n",
      "579/579 [==============================] - 0s - loss: 0.5105 - acc: 0.7927 - val_loss: 0.5864 - val_acc: 0.7903\n",
      "Epoch 62/150\n",
      "579/579 [==============================] - 0s - loss: 0.4966 - acc: 0.8169 - val_loss: 0.5414 - val_acc: 0.7742\n",
      "Epoch 63/150\n",
      "579/579 [==============================] - 0s - loss: 0.4706 - acc: 0.7979 - val_loss: 0.5657 - val_acc: 0.7903\n",
      "Epoch 64/150\n",
      "579/579 [==============================] - 0s - loss: 0.4917 - acc: 0.8031 - val_loss: 0.5816 - val_acc: 0.7742\n",
      "Epoch 65/150\n",
      "579/579 [==============================] - 0s - loss: 0.4729 - acc: 0.8135 - val_loss: 0.5258 - val_acc: 0.8226\n",
      "Epoch 66/150\n",
      "579/579 [==============================] - 0s - loss: 0.4454 - acc: 0.8187 - val_loss: 0.5802 - val_acc: 0.7419\n",
      "Epoch 67/150\n",
      "579/579 [==============================] - 0s - loss: 0.4262 - acc: 0.8307 - val_loss: 0.5451 - val_acc: 0.8065\n",
      "Epoch 68/150\n",
      "579/579 [==============================] - 0s - loss: 0.4887 - acc: 0.8187 - val_loss: 0.5932 - val_acc: 0.7984\n",
      "Epoch 69/150\n",
      "579/579 [==============================] - 0s - loss: 0.4472 - acc: 0.8290 - val_loss: 0.5339 - val_acc: 0.8145\n",
      "Epoch 70/150\n",
      "579/579 [==============================] - 0s - loss: 0.4516 - acc: 0.8066 - val_loss: 0.5304 - val_acc: 0.7661\n",
      "Epoch 71/150\n",
      "579/579 [==============================] - 0s - loss: 0.4198 - acc: 0.8411 - val_loss: 0.5103 - val_acc: 0.8306\n",
      "Epoch 72/150\n",
      "579/579 [==============================] - 0s - loss: 0.3966 - acc: 0.8411 - val_loss: 0.4947 - val_acc: 0.8306\n",
      "Epoch 73/150\n",
      "579/579 [==============================] - 0s - loss: 0.4286 - acc: 0.8342 - val_loss: 0.5114 - val_acc: 0.8226\n",
      "Epoch 74/150\n",
      "579/579 [==============================] - 0s - loss: 0.4421 - acc: 0.8221 - val_loss: 0.5081 - val_acc: 0.8306\n",
      "Epoch 75/150\n",
      "579/579 [==============================] - 0s - loss: 0.4167 - acc: 0.8359 - val_loss: 0.5358 - val_acc: 0.8226\n",
      "Epoch 76/150\n",
      "579/579 [==============================] - 0s - loss: 0.4545 - acc: 0.8273 - val_loss: 0.6199 - val_acc: 0.7339\n",
      "Epoch 77/150\n",
      "579/579 [==============================] - 0s - loss: 0.4956 - acc: 0.7927 - val_loss: 0.5167 - val_acc: 0.8226\n",
      "Epoch 78/150\n",
      "579/579 [==============================] - 0s - loss: 0.4486 - acc: 0.7945 - val_loss: 0.5608 - val_acc: 0.7500\n",
      "Epoch 79/150\n",
      "579/579 [==============================] - 0s - loss: 0.4202 - acc: 0.8377 - val_loss: 0.5071 - val_acc: 0.8468\n",
      "Epoch 80/150\n",
      "579/579 [==============================] - 0s - loss: 0.4241 - acc: 0.8394 - val_loss: 0.5622 - val_acc: 0.7661\n",
      "Epoch 81/150\n",
      "579/579 [==============================] - 0s - loss: 0.3986 - acc: 0.8446 - val_loss: 0.5096 - val_acc: 0.7984\n",
      "Epoch 82/150\n",
      "579/579 [==============================] - 0s - loss: 0.3910 - acc: 0.8446 - val_loss: 0.4966 - val_acc: 0.8387\n",
      "Epoch 83/150\n",
      "579/579 [==============================] - 0s - loss: 0.3910 - acc: 0.8584 - val_loss: 0.5499 - val_acc: 0.7823\n",
      "Epoch 84/150\n",
      "579/579 [==============================] - 0s - loss: 0.4194 - acc: 0.8290 - val_loss: 0.5118 - val_acc: 0.8387\n",
      "Epoch 85/150\n",
      "579/579 [==============================] - 0s - loss: 0.3988 - acc: 0.8463 - val_loss: 0.5483 - val_acc: 0.8065\n",
      "Epoch 86/150\n",
      "579/579 [==============================] - 0s - loss: 0.4133 - acc: 0.8238 - val_loss: 0.5132 - val_acc: 0.8306\n",
      "Epoch 87/150\n",
      "579/579 [==============================] - 0s - loss: 0.4052 - acc: 0.8273 - val_loss: 0.4973 - val_acc: 0.8226\n",
      "Epoch 88/150\n",
      "579/579 [==============================] - 0s - loss: 0.3916 - acc: 0.8428 - val_loss: 0.5187 - val_acc: 0.8065\n"
     ]
    },
    {
     "data": {
      "text/plain": [
       "<keras.callbacks.History at 0x7fa9e5e88b50>"
      ]
     },
     "execution_count": 15,
     "metadata": {},
     "output_type": "execute_result"
    }
   ],
   "source": [
    "batch_size = 50\n",
    "epochs = 150\n",
    "earlyStopping=keras.callbacks.EarlyStopping(monitor='val_loss', patience=15, verbose=0, mode='auto')\n",
    "\n",
    "model.compile(loss='categorical_crossentropy',optimizer='adam',metrics=['acc'])\n",
    "model.fit(x_train, y_train, nb_epoch=epochs,batch_size=batch_size, \n",
    "          callbacks=[earlyStopping], shuffle=True, validation_data = (x_valid, y_valid))"
   ]
  },
  {
   "cell_type": "code",
   "execution_count": 16,
   "metadata": {
    "collapsed": false
   },
   "outputs": [
    {
     "name": "stdout",
     "output_type": "stream",
     "text": [
      "125/125 [==============================] - 0s     \n"
     ]
    },
    {
     "data": {
      "text/plain": [
       "[0.60787882208824162, 0.78400000333786013]"
      ]
     },
     "execution_count": 16,
     "metadata": {},
     "output_type": "execute_result"
    }
   ],
   "source": [
    "model.evaluate(x_test, y_test, batch_size=batch_size)"
   ]
  },
  {
   "cell_type": "code",
   "execution_count": 17,
   "metadata": {
    "collapsed": false
   },
   "outputs": [
    {
     "name": "stdout",
     "output_type": "stream",
     "text": [
      "125/125 [==============================] - 0s     \n",
      "[2 3 3 3 4 3 1 4 2 2 4 0 4 0 1 3 2 4 4 4 4 3 4 4 3 3 2 1 2 4 1 4 0 2 4 0 1\n",
      " 0 3 0 1 4 1 2 0 4 3 4 4 4 3 4 0 2 4 0 3 4 2 0 1 0 3 2 4 4 2 2 2 2 1 4 4 4\n",
      " 4 3 4 3 2 4 1 4 4 1 4 4 2 1 2 2 2 2 4 4 4 2 3 4 1 3 0 4 2 3 0 4 0 4 0 3 0\n",
      " 4 4 3 2 0 0 0 2 3 3 4 3 4 0]\n",
      " 32/125 [======>.......................] - ETA: 0s                          precision    recall  f1-score   support\n",
      "\n",
      "class 0(nback gyakorlas)       0.90      0.90      0.90        20\n",
      "          class 1(0back)       0.69      0.47      0.56        19\n",
      "          class 2(1back)       0.60      0.75      0.67        20\n",
      "          class 3(2back)       0.78      0.67      0.72        27\n",
      "          class 4(3back)       0.86      0.97      0.92        39\n",
      "\n",
      "             avg / total       0.78      0.78      0.78       125\n",
      "\n",
      "[[18  0  2  0  0]\n",
      " [ 0  9  7  3  0]\n",
      " [ 0  3 15  1  1]\n",
      " [ 2  1  1 18  5]\n",
      " [ 0  0  0  1 38]]\n"
     ]
    }
   ],
   "source": [
    "from sklearn.metrics import classification_report,confusion_matrix\n",
    "\n",
    "y_pred = model.predict_classes(x_test)\n",
    "print(y_pred)\n",
    "\n",
    "p=model.predict_proba(x_test)\n",
    "\n",
    "target_names = ['class 0(nback gyakorlas)', 'class 1(0back)', 'class 2(1back)', 'class 3(2back)', 'class 4(3back)']\n",
    "print(classification_report(np.argmax(y_test,axis=1), y_pred,target_names=target_names))\n",
    "print(confusion_matrix(np.argmax(y_test,axis=1), y_pred))"
   ]
  },
  {
   "cell_type": "code",
   "execution_count": null,
   "metadata": {
    "collapsed": true
   },
   "outputs": [],
   "source": []
  }
 ],
 "metadata": {
  "anaconda-cloud": {},
  "kernelspec": {
   "display_name": "Python [conda root]",
   "language": "python",
   "name": "conda-root-py"
  },
  "language_info": {
   "codemirror_mode": {
    "name": "ipython",
    "version": 2
   },
   "file_extension": ".py",
   "mimetype": "text/x-python",
   "name": "python",
   "nbconvert_exporter": "python",
   "pygments_lexer": "ipython2",
   "version": "2.7.12"
  }
 },
 "nbformat": 4,
 "nbformat_minor": 1
}
