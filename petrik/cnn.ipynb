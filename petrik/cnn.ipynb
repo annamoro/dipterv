{
 "cells": [
  {
   "cell_type": "code",
   "execution_count": 3,
   "metadata": {
    "collapsed": false
   },
   "outputs": [
    {
     "name": "stderr",
     "output_type": "stream",
     "text": [
      "Using TensorFlow backend.\n"
     ]
    }
   ],
   "source": [
    "from __future__ import print_function\n",
    "import os\n",
    "import numpy as np\n",
    "from numpy import newaxis\n",
    "from sklearn import preprocessing\n",
    "np.random.seed(1337)\n",
    "\n",
    "import keras\n",
    "from keras.utils.np_utils import to_categorical\n",
    "from keras.layers import Dense, Input, Flatten\n",
    "from keras.layers import Dropout\n",
    "from keras.models import Model,Sequential\n",
    "from keras.layers import Convolution1D, MaxPooling1D\n",
    "import sys\n",
    "\n",
    "import pandas as pd\n",
    "import random"
   ]
  },
  {
   "cell_type": "markdown",
   "metadata": {},
   "source": [
    "# Reading in data"
   ]
  },
  {
   "cell_type": "code",
   "execution_count": 52,
   "metadata": {
    "collapsed": false
   },
   "outputs": [
    {
     "name": "stdout",
     "output_type": "stream",
     "text": [
      "Data read started...\n",
      "Data read finished.\n",
      "(286, 15)\n"
     ]
    }
   ],
   "source": [
    "print(\"Data read started...\")\n",
    "data = pd.read_csv(\"result1.csv\")\n",
    "data = data.as_matrix()\n",
    "print (\"Data read finished.\")\n",
    "\n",
    "touch_only = 'false'\n",
    "touch_heart = 'false'\n",
    "print(data.shape)"
   ]
  },
  {
   "cell_type": "markdown",
   "metadata": {},
   "source": [
    "# Eliminate EEG data"
   ]
  },
  {
   "cell_type": "code",
   "execution_count": 53,
   "metadata": {
    "collapsed": false
   },
   "outputs": [
    {
     "data": {
      "text/plain": [
       "(286, 8)"
      ]
     },
     "execution_count": 53,
     "metadata": {},
     "output_type": "execute_result"
    }
   ],
   "source": [
    "data = np.delete(data, 13, 1)    # TouchNumber\n",
    "data = np.delete(data, 12, 1)    # T/S\n",
    "data = np.delete(data, 11, 1)    # TouchTimestamp\n",
    "data = np.delete(data, 4, 1)     # RRInterval\n",
    "data = np.delete(data, 3, 1)     # hpvPower\n",
    "data = np.delete(data, 2, 1)     # Heartrate\n",
    "data = np.delete(data, 1, 1)     # Timestamp\n",
    "data.shape\n",
    "\n",
    "if(touch_only == 'true'):\n",
    "    data = np.delete(data, 7, 1)     # SDNN\n",
    "    data = np.delete(data, 3, 1)     # Burg\n",
    "    data = np.delete(data, 2, 1)     # ReactionTime\n",
    "\n",
    "if(touch_heart == 'true'):\n",
    "    data = np.delete(data, 7, 1)     # ReactionTime\n",
    "    \n",
    "data.shape"
   ]
  },
  {
   "cell_type": "code",
   "execution_count": 54,
   "metadata": {
    "collapsed": false
   },
   "outputs": [
    {
     "name": "stdout",
     "output_type": "stream",
     "text": [
      " one:  81  two:  105  three:  100\n"
     ]
    }
   ],
   "source": [
    "one = 0\n",
    "two = 0\n",
    "three = 0\n",
    "\n",
    "for i in range(len(data)):\n",
    "    if (data[i, 0] == 'NbackSym1'):\n",
    "        one = one + 1\n",
    "    if (data[i, 0] == 'NbackSym2'):\n",
    "        two = two + 1\n",
    "    if (data[i, 0] == 'NbackSym3'):\n",
    "        three = three + 1\n",
    "\n",
    "print(' one: ', one, ' two: ', two, ' three: ', three)"
   ]
  },
  {
   "cell_type": "markdown",
   "metadata": {},
   "source": [
    "# Dictionary for the levels"
   ]
  },
  {
   "cell_type": "code",
   "execution_count": 55,
   "metadata": {
    "collapsed": true
   },
   "outputs": [],
   "source": [
    "level=[\"NbackSym1\",\"NbackSym2\",\"NbackSym3\"]\n",
    "level2int = dict((p, i) for i, p in enumerate(level))\n",
    "int2level = dict((i, p) for i, p in enumerate(level))"
   ]
  },
  {
   "cell_type": "markdown",
   "metadata": {},
   "source": [
    "# Z normalize"
   ]
  },
  {
   "cell_type": "code",
   "execution_count": 56,
   "metadata": {
    "collapsed": false,
    "scrolled": true
   },
   "outputs": [
    {
     "name": "stderr",
     "output_type": "stream",
     "text": [
      "/home/amoro/anaconda2/lib/python2.7/site-packages/sklearn/utils/validation.py:420: DataConversionWarning: Data with input dtype object was converted to float64 by the scale function.\n",
      "  warnings.warn(msg, DataConversionWarning)\n",
      "/home/amoro/anaconda2/lib/python2.7/site-packages/sklearn/utils/validation.py:420: DataConversionWarning: Data with input dtype object was converted to float64 by the scale function.\n",
      "  warnings.warn(msg, DataConversionWarning)\n",
      "/home/amoro/anaconda2/lib/python2.7/site-packages/sklearn/utils/validation.py:420: DataConversionWarning: Data with input dtype object was converted to float64 by the scale function.\n",
      "  warnings.warn(msg, DataConversionWarning)\n",
      "/home/amoro/anaconda2/lib/python2.7/site-packages/sklearn/utils/validation.py:420: DataConversionWarning: Data with input dtype object was converted to float64 by the scale function.\n",
      "  warnings.warn(msg, DataConversionWarning)\n",
      "/home/amoro/anaconda2/lib/python2.7/site-packages/sklearn/utils/validation.py:420: DataConversionWarning: Data with input dtype object was converted to float64 by the scale function.\n",
      "  warnings.warn(msg, DataConversionWarning)\n",
      "/home/amoro/anaconda2/lib/python2.7/site-packages/sklearn/utils/validation.py:420: DataConversionWarning: Data with input dtype object was converted to float64 by the scale function.\n",
      "  warnings.warn(msg, DataConversionWarning)\n",
      "/home/amoro/anaconda2/lib/python2.7/site-packages/sklearn/utils/validation.py:420: DataConversionWarning: Data with input dtype object was converted to float64 by the scale function.\n",
      "  warnings.warn(msg, DataConversionWarning)\n"
     ]
    }
   ],
   "source": [
    "for i in range (1,data.shape[1]):\n",
    "    data[:, i] = preprocessing.scale(data[:, i])"
   ]
  },
  {
   "cell_type": "code",
   "execution_count": 57,
   "metadata": {
    "collapsed": false
   },
   "outputs": [],
   "source": [
    "back1 = np.zeros((one,data.shape[1]-1))\n",
    "back2 = np.zeros((two,data.shape[1]-1))\n",
    "back3 = np.zeros((three,data.shape[1]-1))\n",
    "j = 0\n",
    "k = 0\n",
    "l = 0\n",
    "\n",
    "for i in range(len(data)):\n",
    "    if (data[i, 0] == 'NbackSym1'):\n",
    "        back1[j] = data[i, 1:]\n",
    "        j = j+1\n",
    "    if (data[i, 0] == 'NbackSym2'):\n",
    "        back2[k] = data[i, 1:]\n",
    "        k = k+1\n",
    "    if (data[i, 0] == 'NbackSym3'):\n",
    "        back3[l] = data[i, 1:]\n",
    "        l = l+1"
   ]
  },
  {
   "cell_type": "code",
   "execution_count": 58,
   "metadata": {
    "collapsed": false
   },
   "outputs": [],
   "source": [
    "y_data = data[:, 0]\n",
    "for i in range(len(data)):\n",
    "    y_data[i] = level2int[y_data[i]]"
   ]
  },
  {
   "cell_type": "markdown",
   "metadata": {},
   "source": [
    "# One-hot encoding"
   ]
  },
  {
   "cell_type": "code",
   "execution_count": 59,
   "metadata": {
    "collapsed": false
   },
   "outputs": [],
   "source": [
    "from sklearn.preprocessing import OneHotEncoder\n",
    "\n",
    "ohe = OneHotEncoder()\n",
    "one_hot = ohe.fit_transform(y_data.reshape(-1,1)).toarray()"
   ]
  },
  {
   "cell_type": "markdown",
   "metadata": {},
   "source": [
    "# Group data for convolutional network"
   ]
  },
  {
   "cell_type": "code",
   "execution_count": 60,
   "metadata": {
    "collapsed": false
   },
   "outputs": [],
   "source": [
    "track = 20\n",
    "null = np.array([0,0,0,0,0,0,0])\n",
    "\n",
    "for i in range(track-1):\n",
    "        back1 = np.vstack([back1, null])\n",
    "        back2 = np.vstack([back2, null])\n",
    "        back3 = np.vstack([back3, null])"
   ]
  },
  {
   "cell_type": "code",
   "execution_count": 61,
   "metadata": {
    "collapsed": false
   },
   "outputs": [],
   "source": [
    "x_data = np.zeros((data.shape[0],back1.shape[1],track))         # final input data for the network\n",
    "y_one_hot = np.zeros((data.shape[0],one_hot.shape[1]))          # to store one-hot data groupped\n",
    "\n",
    "for i in range(len(one_hot)):\n",
    "    y_one_hot[i]=one_hot[i]\n",
    "\n",
    "for i in range(len(back1)-track+1):\n",
    "    for j in range(track-1):\n",
    "        x_data[i, :, j] = back1[i+j]\n",
    "        \n",
    "index = 0\n",
    "for i in range(len(back1)-track+1, len(back1)-track+1 + len(back2)-track+1):\n",
    "    for j in range(track-1):\n",
    "        x_data[i, :, j] = back2[index+j]\n",
    "    index = index+1\n",
    "    \n",
    "index = 0\n",
    "for i in range(len(back1)-track+1 + len(back2)-track+1, len(back1)-track+1 + len(back2)-track+1 + len(back3)-track+1):\n",
    "    for j in range(track-1):\n",
    "        x_data[i, :, j] = back3[index+j]\n",
    "    index = index+1"
   ]
  },
  {
   "cell_type": "markdown",
   "metadata": {},
   "source": [
    "# Shuffle data"
   ]
  },
  {
   "cell_type": "code",
   "execution_count": 62,
   "metadata": {
    "collapsed": true
   },
   "outputs": [],
   "source": [
    "indices = np.arange(x_data.shape[0])\n",
    "np.random.shuffle(indices)\n",
    "\n",
    "x_data = x_data[indices]\n",
    "y_one_hot = y_one_hot[indices]"
   ]
  },
  {
   "cell_type": "markdown",
   "metadata": {},
   "source": [
    "# Divide into train, validation and test data"
   ]
  },
  {
   "cell_type": "code",
   "execution_count": 63,
   "metadata": {
    "collapsed": true
   },
   "outputs": [],
   "source": [
    "len_data = len(x_data)\n",
    "\n",
    "nb_test = int(len_data*0.15)\n",
    "nb_validation = int(len_data*0.15)\n",
    "nb_train = int(len_data*0.7)\n",
    "\n",
    "end_valid = nb_train+nb_validation\n",
    "\n",
    "x_train = x_data[0:nb_train]\n",
    "y_train = y_one_hot[0:nb_train]\n",
    "\n",
    "x_valid = x_data[nb_train:end_valid]\n",
    "y_valid = y_one_hot[nb_train:end_valid]\n",
    "\n",
    "x_test = x_data[end_valid:]\n",
    "y_test = y_one_hot[end_valid:]"
   ]
  },
  {
   "cell_type": "code",
   "execution_count": 64,
   "metadata": {
    "collapsed": false
   },
   "outputs": [
    {
     "name": "stdout",
     "output_type": "stream",
     "text": [
      "(200, 7, 20) (200, 3) (42, 7, 20) (42, 3) (44, 7, 20) (44, 3)\n"
     ]
    }
   ],
   "source": [
    "print(x_train.shape, y_train.shape, x_valid.shape, y_valid.shape, x_test.shape, y_test.shape)"
   ]
  },
  {
   "cell_type": "markdown",
   "metadata": {},
   "source": [
    "# Build the net"
   ]
  },
  {
   "cell_type": "code",
   "execution_count": 65,
   "metadata": {
    "collapsed": false
   },
   "outputs": [],
   "source": [
    "model = Sequential()\n",
    "\n",
    "model.add(Convolution1D(input_shape=(x_train[0].shape[-2],x_train[0].shape[-1]),\n",
    "                        nb_filter=35,\n",
    "                        filter_length=4,\n",
    "                        border_mode='same',\n",
    "                        subsample_length=2,\n",
    "                        init='glorot_normal',\n",
    "                        activation='relu')) \n",
    "\n",
    "#model.add(MaxPooling1D(pool_length=2,stride=1))\n",
    "model.add(Dropout(0.5))\n",
    "\n",
    "model.add(Convolution1D(nb_filter=30,\n",
    "                        filter_length=2,\n",
    "                        border_mode='same',\n",
    "                        subsample_length=2,\n",
    "                        init='glorot_normal',\n",
    "                        activation='relu'))\n",
    "\n",
    "model.add(Dropout(0.25))\n",
    "\n",
    "\n",
    "model.add(Flatten())\n",
    "\n",
    "model.add(Dense(y_train.shape[1], activation='softmax'))"
   ]
  },
  {
   "cell_type": "code",
   "execution_count": 66,
   "metadata": {
    "collapsed": false,
    "scrolled": true
   },
   "outputs": [
    {
     "name": "stdout",
     "output_type": "stream",
     "text": [
      "Train on 200 samples, validate on 42 samples\n",
      "Epoch 1/200\n",
      "200/200 [==============================] - 0s - loss: 1.0923 - acc: 0.4200 - val_loss: 1.0676 - val_acc: 0.6905\n",
      "Epoch 2/200\n",
      "200/200 [==============================] - 0s - loss: 1.0632 - acc: 0.5950 - val_loss: 1.0281 - val_acc: 0.8095\n",
      "Epoch 3/200\n",
      "200/200 [==============================] - 0s - loss: 1.0151 - acc: 0.6800 - val_loss: 0.9724 - val_acc: 0.8810\n",
      "Epoch 4/200\n",
      "200/200 [==============================] - 0s - loss: 0.9587 - acc: 0.7450 - val_loss: 0.8970 - val_acc: 0.8810\n",
      "Epoch 5/200\n",
      "200/200 [==============================] - 0s - loss: 0.8872 - acc: 0.7500 - val_loss: 0.8028 - val_acc: 0.9048\n",
      "Epoch 6/200\n",
      "200/200 [==============================] - 0s - loss: 0.8086 - acc: 0.8050 - val_loss: 0.7007 - val_acc: 0.9048\n",
      "Epoch 7/200\n",
      "200/200 [==============================] - 0s - loss: 0.7362 - acc: 0.7950 - val_loss: 0.6012 - val_acc: 0.9286\n",
      "Epoch 8/200\n",
      "200/200 [==============================] - 0s - loss: 0.6366 - acc: 0.8500 - val_loss: 0.5120 - val_acc: 0.9048\n",
      "Epoch 9/200\n",
      "200/200 [==============================] - 0s - loss: 0.5901 - acc: 0.8200 - val_loss: 0.4380 - val_acc: 0.9048\n",
      "Epoch 10/200\n",
      "200/200 [==============================] - 0s - loss: 0.5310 - acc: 0.8300 - val_loss: 0.3750 - val_acc: 0.9286\n",
      "Epoch 11/200\n",
      "200/200 [==============================] - 0s - loss: 0.4602 - acc: 0.8550 - val_loss: 0.3235 - val_acc: 0.9286\n",
      "Epoch 12/200\n",
      "200/200 [==============================] - 0s - loss: 0.4366 - acc: 0.8400 - val_loss: 0.2825 - val_acc: 0.9286\n",
      "Epoch 13/200\n",
      "200/200 [==============================] - 0s - loss: 0.3807 - acc: 0.8700 - val_loss: 0.2492 - val_acc: 0.9286\n",
      "Epoch 14/200\n",
      "200/200 [==============================] - 0s - loss: 0.3701 - acc: 0.8600 - val_loss: 0.2225 - val_acc: 0.9286\n",
      "Epoch 15/200\n",
      "200/200 [==============================] - 0s - loss: 0.3489 - acc: 0.8300 - val_loss: 0.2011 - val_acc: 0.9286\n",
      "Epoch 16/200\n",
      "200/200 [==============================] - 0s - loss: 0.3211 - acc: 0.8750 - val_loss: 0.1824 - val_acc: 0.9286\n",
      "Epoch 17/200\n",
      "200/200 [==============================] - 0s - loss: 0.2909 - acc: 0.8900 - val_loss: 0.1662 - val_acc: 0.9286\n",
      "Epoch 18/200\n",
      "200/200 [==============================] - 0s - loss: 0.3062 - acc: 0.8800 - val_loss: 0.1544 - val_acc: 0.9524\n",
      "Epoch 19/200\n",
      "200/200 [==============================] - 0s - loss: 0.2585 - acc: 0.8950 - val_loss: 0.1454 - val_acc: 0.9524\n",
      "Epoch 20/200\n",
      "200/200 [==============================] - 0s - loss: 0.2691 - acc: 0.8950 - val_loss: 0.1347 - val_acc: 0.9524\n",
      "Epoch 21/200\n",
      "200/200 [==============================] - 0s - loss: 0.2358 - acc: 0.9350 - val_loss: 0.1266 - val_acc: 0.9762\n",
      "Epoch 22/200\n",
      "200/200 [==============================] - 0s - loss: 0.2311 - acc: 0.9000 - val_loss: 0.1196 - val_acc: 0.9762\n",
      "Epoch 23/200\n",
      "200/200 [==============================] - 0s - loss: 0.2129 - acc: 0.9150 - val_loss: 0.1104 - val_acc: 0.9762\n",
      "Epoch 24/200\n",
      "200/200 [==============================] - 0s - loss: 0.2355 - acc: 0.9200 - val_loss: 0.1030 - val_acc: 0.9762\n",
      "Epoch 25/200\n",
      "200/200 [==============================] - 0s - loss: 0.1942 - acc: 0.9200 - val_loss: 0.0964 - val_acc: 0.9762\n",
      "Epoch 26/200\n",
      "200/200 [==============================] - 0s - loss: 0.1838 - acc: 0.9400 - val_loss: 0.0910 - val_acc: 0.9762\n",
      "Epoch 27/200\n",
      "200/200 [==============================] - 0s - loss: 0.1895 - acc: 0.9350 - val_loss: 0.0884 - val_acc: 0.9762\n",
      "Epoch 28/200\n",
      "200/200 [==============================] - 0s - loss: 0.1643 - acc: 0.9500 - val_loss: 0.0879 - val_acc: 0.9762\n",
      "Epoch 29/200\n",
      "200/200 [==============================] - 0s - loss: 0.1715 - acc: 0.9450 - val_loss: 0.0859 - val_acc: 0.9762\n",
      "Epoch 30/200\n",
      "200/200 [==============================] - 0s - loss: 0.1535 - acc: 0.9550 - val_loss: 0.0798 - val_acc: 0.9762\n",
      "Epoch 31/200\n",
      "200/200 [==============================] - 0s - loss: 0.1694 - acc: 0.9400 - val_loss: 0.0727 - val_acc: 0.9762\n",
      "Epoch 32/200\n",
      "200/200 [==============================] - 0s - loss: 0.1451 - acc: 0.9550 - val_loss: 0.0679 - val_acc: 0.9762\n",
      "Epoch 33/200\n",
      "200/200 [==============================] - 0s - loss: 0.1537 - acc: 0.9450 - val_loss: 0.0660 - val_acc: 0.9762\n",
      "Epoch 34/200\n",
      "200/200 [==============================] - 0s - loss: 0.1340 - acc: 0.9550 - val_loss: 0.0639 - val_acc: 0.9762\n",
      "Epoch 35/200\n",
      "200/200 [==============================] - 0s - loss: 0.1426 - acc: 0.9600 - val_loss: 0.0605 - val_acc: 0.9762\n",
      "Epoch 36/200\n",
      "200/200 [==============================] - 0s - loss: 0.1413 - acc: 0.9600 - val_loss: 0.0586 - val_acc: 0.9762\n",
      "Epoch 37/200\n",
      "200/200 [==============================] - 0s - loss: 0.1493 - acc: 0.9600 - val_loss: 0.0576 - val_acc: 0.9762\n",
      "Epoch 38/200\n",
      "200/200 [==============================] - 0s - loss: 0.1319 - acc: 0.9550 - val_loss: 0.0592 - val_acc: 0.9762\n",
      "Epoch 39/200\n",
      "200/200 [==============================] - 0s - loss: 0.0968 - acc: 0.9800 - val_loss: 0.0582 - val_acc: 0.9762\n",
      "Epoch 40/200\n",
      "200/200 [==============================] - 0s - loss: 0.1147 - acc: 0.9650 - val_loss: 0.0557 - val_acc: 0.9762\n",
      "Epoch 41/200\n",
      "200/200 [==============================] - 0s - loss: 0.1504 - acc: 0.9500 - val_loss: 0.0488 - val_acc: 0.9762\n",
      "Epoch 42/200\n",
      "200/200 [==============================] - 0s - loss: 0.1497 - acc: 0.9200 - val_loss: 0.0476 - val_acc: 0.9762\n",
      "Epoch 43/200\n",
      "200/200 [==============================] - 0s - loss: 0.1017 - acc: 0.9750 - val_loss: 0.0496 - val_acc: 0.9762\n",
      "Epoch 44/200\n",
      "200/200 [==============================] - 0s - loss: 0.1084 - acc: 0.9700 - val_loss: 0.0503 - val_acc: 0.9762\n",
      "Epoch 45/200\n",
      "200/200 [==============================] - 0s - loss: 0.0978 - acc: 0.9700 - val_loss: 0.0474 - val_acc: 0.9762\n",
      "Epoch 46/200\n",
      "200/200 [==============================] - 0s - loss: 0.1122 - acc: 0.9650 - val_loss: 0.0471 - val_acc: 0.9762\n",
      "Epoch 47/200\n",
      "200/200 [==============================] - 0s - loss: 0.1073 - acc: 0.9900 - val_loss: 0.0469 - val_acc: 0.9762\n",
      "Epoch 48/200\n",
      "200/200 [==============================] - 0s - loss: 0.0881 - acc: 0.9850 - val_loss: 0.0471 - val_acc: 0.9762\n",
      "Epoch 49/200\n",
      "200/200 [==============================] - 0s - loss: 0.0847 - acc: 0.9700 - val_loss: 0.0469 - val_acc: 0.9762\n",
      "Epoch 50/200\n",
      "200/200 [==============================] - 0s - loss: 0.0861 - acc: 0.9750 - val_loss: 0.0482 - val_acc: 0.9762\n",
      "Epoch 51/200\n",
      "200/200 [==============================] - 0s - loss: 0.0793 - acc: 0.9750 - val_loss: 0.0471 - val_acc: 0.9762\n",
      "Epoch 52/200\n",
      "200/200 [==============================] - 0s - loss: 0.0686 - acc: 0.9800 - val_loss: 0.0464 - val_acc: 0.9762\n",
      "Epoch 53/200\n",
      "200/200 [==============================] - 0s - loss: 0.0881 - acc: 0.9750 - val_loss: 0.0463 - val_acc: 0.9762\n",
      "Epoch 54/200\n",
      "200/200 [==============================] - 0s - loss: 0.0774 - acc: 0.9800 - val_loss: 0.0453 - val_acc: 0.9762\n",
      "Epoch 55/200\n",
      "200/200 [==============================] - 0s - loss: 0.1068 - acc: 0.9650 - val_loss: 0.0440 - val_acc: 0.9762\n",
      "Epoch 56/200\n",
      "200/200 [==============================] - 0s - loss: 0.0817 - acc: 0.9700 - val_loss: 0.0410 - val_acc: 0.9762\n",
      "Epoch 57/200\n",
      "200/200 [==============================] - 0s - loss: 0.0686 - acc: 0.9850 - val_loss: 0.0394 - val_acc: 0.9762\n",
      "Epoch 58/200\n",
      "200/200 [==============================] - 0s - loss: 0.0903 - acc: 0.9750 - val_loss: 0.0373 - val_acc: 0.9762\n",
      "Epoch 59/200\n",
      "200/200 [==============================] - 0s - loss: 0.0650 - acc: 0.9800 - val_loss: 0.0354 - val_acc: 0.9762\n",
      "Epoch 60/200\n",
      "200/200 [==============================] - 0s - loss: 0.0691 - acc: 0.9850 - val_loss: 0.0342 - val_acc: 0.9762\n",
      "Epoch 61/200\n",
      "200/200 [==============================] - 0s - loss: 0.0684 - acc: 0.9800 - val_loss: 0.0340 - val_acc: 0.9762\n",
      "Epoch 62/200\n",
      "200/200 [==============================] - 0s - loss: 0.0559 - acc: 0.9750 - val_loss: 0.0363 - val_acc: 0.9762\n",
      "Epoch 63/200\n",
      "200/200 [==============================] - 0s - loss: 0.0763 - acc: 0.9800 - val_loss: 0.0368 - val_acc: 0.9762\n",
      "Epoch 64/200\n",
      "200/200 [==============================] - 0s - loss: 0.0934 - acc: 0.9700 - val_loss: 0.0358 - val_acc: 0.9762\n",
      "Epoch 65/200\n",
      "200/200 [==============================] - 0s - loss: 0.0544 - acc: 0.9950 - val_loss: 0.0368 - val_acc: 0.9762\n",
      "Epoch 66/200\n",
      "200/200 [==============================] - 0s - loss: 0.0685 - acc: 0.9900 - val_loss: 0.0368 - val_acc: 0.9762\n",
      "Epoch 67/200\n",
      "200/200 [==============================] - 0s - loss: 0.0500 - acc: 0.9800 - val_loss: 0.0369 - val_acc: 0.9762\n",
      "Epoch 68/200\n",
      "200/200 [==============================] - 0s - loss: 0.0768 - acc: 0.9700 - val_loss: 0.0365 - val_acc: 0.9762\n",
      "Epoch 69/200\n",
      "200/200 [==============================] - 0s - loss: 0.0791 - acc: 0.9900 - val_loss: 0.0375 - val_acc: 0.9762\n",
      "Epoch 70/200\n",
      "200/200 [==============================] - 0s - loss: 0.0591 - acc: 0.9800 - val_loss: 0.0371 - val_acc: 0.9762\n",
      "Epoch 71/200\n",
      "200/200 [==============================] - 0s - loss: 0.0511 - acc: 0.9850 - val_loss: 0.0373 - val_acc: 0.9762\n",
      "Epoch 72/200\n",
      "200/200 [==============================] - 0s - loss: 0.0551 - acc: 0.9850 - val_loss: 0.0371 - val_acc: 0.9762\n",
      "Epoch 73/200\n",
      "200/200 [==============================] - 0s - loss: 0.0625 - acc: 0.9850 - val_loss: 0.0339 - val_acc: 0.9762\n",
      "Epoch 74/200\n",
      "200/200 [==============================] - 0s - loss: 0.0465 - acc: 0.9950 - val_loss: 0.0314 - val_acc: 0.9762\n",
      "Epoch 75/200\n",
      "200/200 [==============================] - 0s - loss: 0.0915 - acc: 0.9650 - val_loss: 0.0298 - val_acc: 0.9762\n",
      "Epoch 76/200\n",
      "200/200 [==============================] - 0s - loss: 0.0518 - acc: 0.9850 - val_loss: 0.0285 - val_acc: 0.9762\n",
      "Epoch 77/200\n",
      "200/200 [==============================] - 0s - loss: 0.0504 - acc: 0.9900 - val_loss: 0.0273 - val_acc: 0.9762\n",
      "Epoch 78/200\n",
      "200/200 [==============================] - 0s - loss: 0.0543 - acc: 0.9850 - val_loss: 0.0265 - val_acc: 0.9762\n",
      "Epoch 79/200\n",
      "200/200 [==============================] - 0s - loss: 0.0504 - acc: 0.9850 - val_loss: 0.0298 - val_acc: 0.9762\n",
      "Epoch 80/200\n",
      "200/200 [==============================] - 0s - loss: 0.0575 - acc: 0.9850 - val_loss: 0.0316 - val_acc: 0.9762\n",
      "Epoch 81/200\n",
      "200/200 [==============================] - 0s - loss: 0.0535 - acc: 0.9850 - val_loss: 0.0293 - val_acc: 0.9762\n",
      "Epoch 82/200\n",
      "200/200 [==============================] - 0s - loss: 0.0491 - acc: 0.9850 - val_loss: 0.0288 - val_acc: 0.9762\n",
      "Epoch 83/200\n",
      "200/200 [==============================] - 0s - loss: 0.0427 - acc: 0.9900 - val_loss: 0.0285 - val_acc: 0.9762\n",
      "Epoch 84/200\n",
      "200/200 [==============================] - 0s - loss: 0.0504 - acc: 0.9900 - val_loss: 0.0278 - val_acc: 0.9762\n",
      "Epoch 85/200\n",
      "200/200 [==============================] - 0s - loss: 0.0549 - acc: 0.9850 - val_loss: 0.0268 - val_acc: 0.9762\n",
      "Epoch 86/200\n",
      "200/200 [==============================] - 0s - loss: 0.0438 - acc: 0.9900 - val_loss: 0.0251 - val_acc: 0.9762\n",
      "Epoch 87/200\n",
      "200/200 [==============================] - 0s - loss: 0.0419 - acc: 0.9850 - val_loss: 0.0231 - val_acc: 1.0000\n",
      "Epoch 88/200\n",
      "200/200 [==============================] - 0s - loss: 0.0536 - acc: 0.9900 - val_loss: 0.0239 - val_acc: 0.9762\n",
      "Epoch 89/200\n",
      "200/200 [==============================] - 0s - loss: 0.1038 - acc: 0.9550 - val_loss: 0.0255 - val_acc: 0.9762\n",
      "Epoch 90/200\n",
      "200/200 [==============================] - 0s - loss: 0.0380 - acc: 0.9950 - val_loss: 0.0252 - val_acc: 0.9762\n",
      "Epoch 91/200\n",
      "200/200 [==============================] - 0s - loss: 0.0514 - acc: 0.9900 - val_loss: 0.0245 - val_acc: 0.9762\n",
      "Epoch 92/200\n",
      "200/200 [==============================] - 0s - loss: 0.0414 - acc: 0.9900 - val_loss: 0.0247 - val_acc: 0.9762\n",
      "Epoch 93/200\n",
      "200/200 [==============================] - 0s - loss: 0.0387 - acc: 1.0000 - val_loss: 0.0242 - val_acc: 0.9762\n",
      "Epoch 94/200\n",
      "200/200 [==============================] - 0s - loss: 0.0369 - acc: 0.9900 - val_loss: 0.0243 - val_acc: 0.9762\n",
      "Epoch 95/200\n",
      "200/200 [==============================] - 0s - loss: 0.0495 - acc: 0.9800 - val_loss: 0.0242 - val_acc: 0.9762\n",
      "Epoch 96/200\n",
      "200/200 [==============================] - 0s - loss: 0.0308 - acc: 1.0000 - val_loss: 0.0245 - val_acc: 0.9762\n",
      "Epoch 97/200\n",
      "200/200 [==============================] - 0s - loss: 0.0348 - acc: 0.9950 - val_loss: 0.0240 - val_acc: 0.9762\n",
      "Epoch 98/200\n",
      "200/200 [==============================] - 0s - loss: 0.0281 - acc: 1.0000 - val_loss: 0.0249 - val_acc: 0.9762\n",
      "Epoch 99/200\n",
      "200/200 [==============================] - 0s - loss: 0.0361 - acc: 0.9950 - val_loss: 0.0256 - val_acc: 0.9762\n",
      "Epoch 100/200\n",
      "200/200 [==============================] - 0s - loss: 0.0638 - acc: 0.9850 - val_loss: 0.0231 - val_acc: 0.9762\n",
      "Epoch 101/200\n",
      "200/200 [==============================] - 0s - loss: 0.0372 - acc: 0.9900 - val_loss: 0.0205 - val_acc: 1.0000\n",
      "Epoch 102/200\n",
      "200/200 [==============================] - 0s - loss: 0.0378 - acc: 0.9950 - val_loss: 0.0196 - val_acc: 1.0000\n",
      "Epoch 103/200\n",
      "200/200 [==============================] - 0s - loss: 0.0441 - acc: 0.9800 - val_loss: 0.0190 - val_acc: 1.0000\n",
      "Epoch 104/200\n",
      "200/200 [==============================] - 0s - loss: 0.0297 - acc: 0.9950 - val_loss: 0.0192 - val_acc: 1.0000\n",
      "Epoch 105/200\n",
      "200/200 [==============================] - 0s - loss: 0.0339 - acc: 0.9850 - val_loss: 0.0201 - val_acc: 1.0000\n",
      "Epoch 106/200\n",
      "200/200 [==============================] - 0s - loss: 0.0313 - acc: 1.0000 - val_loss: 0.0210 - val_acc: 1.0000\n",
      "Epoch 107/200\n",
      "200/200 [==============================] - 0s - loss: 0.0434 - acc: 0.9850 - val_loss: 0.0206 - val_acc: 1.0000\n",
      "Epoch 108/200\n",
      "200/200 [==============================] - 0s - loss: 0.0266 - acc: 0.9950 - val_loss: 0.0200 - val_acc: 1.0000\n",
      "Epoch 109/200\n",
      "200/200 [==============================] - 0s - loss: 0.0309 - acc: 1.0000 - val_loss: 0.0197 - val_acc: 1.0000\n",
      "Epoch 110/200\n",
      "200/200 [==============================] - 0s - loss: 0.0384 - acc: 0.9900 - val_loss: 0.0203 - val_acc: 1.0000\n",
      "Epoch 111/200\n",
      "200/200 [==============================] - 0s - loss: 0.0299 - acc: 1.0000 - val_loss: 0.0207 - val_acc: 1.0000\n",
      "Epoch 112/200\n",
      "200/200 [==============================] - 0s - loss: 0.0321 - acc: 0.9900 - val_loss: 0.0192 - val_acc: 1.0000\n",
      "Epoch 113/200\n",
      "200/200 [==============================] - 0s - loss: 0.0241 - acc: 0.9950 - val_loss: 0.0180 - val_acc: 1.0000\n",
      "Epoch 114/200\n",
      "200/200 [==============================] - 0s - loss: 0.0237 - acc: 0.9950 - val_loss: 0.0174 - val_acc: 1.0000\n",
      "Epoch 115/200\n",
      "200/200 [==============================] - 0s - loss: 0.0719 - acc: 0.9800 - val_loss: 0.0168 - val_acc: 1.0000\n",
      "Epoch 116/200\n",
      "200/200 [==============================] - 0s - loss: 0.0270 - acc: 0.9950 - val_loss: 0.0174 - val_acc: 1.0000\n",
      "Epoch 117/200\n",
      "200/200 [==============================] - 0s - loss: 0.0513 - acc: 0.9900 - val_loss: 0.0193 - val_acc: 1.0000\n",
      "Epoch 118/200\n",
      "200/200 [==============================] - 0s - loss: 0.0373 - acc: 0.9900 - val_loss: 0.0203 - val_acc: 1.0000\n",
      "Epoch 119/200\n",
      "200/200 [==============================] - 0s - loss: 0.0635 - acc: 0.9850 - val_loss: 0.0205 - val_acc: 1.0000\n",
      "Epoch 120/200\n",
      "200/200 [==============================] - 0s - loss: 0.0272 - acc: 0.9950 - val_loss: 0.0207 - val_acc: 1.0000\n",
      "Epoch 121/200\n",
      "200/200 [==============================] - 0s - loss: 0.0329 - acc: 0.9900 - val_loss: 0.0187 - val_acc: 1.0000\n",
      "Epoch 122/200\n",
      "200/200 [==============================] - 0s - loss: 0.0271 - acc: 0.9950 - val_loss: 0.0168 - val_acc: 1.0000\n",
      "Epoch 123/200\n",
      "200/200 [==============================] - 0s - loss: 0.0215 - acc: 1.0000 - val_loss: 0.0152 - val_acc: 1.0000\n",
      "Epoch 124/200\n",
      "200/200 [==============================] - 0s - loss: 0.0376 - acc: 0.9950 - val_loss: 0.0144 - val_acc: 1.0000\n",
      "Epoch 125/200\n",
      "200/200 [==============================] - 0s - loss: 0.0285 - acc: 1.0000 - val_loss: 0.0144 - val_acc: 1.0000\n",
      "Epoch 126/200\n",
      "200/200 [==============================] - 0s - loss: 0.0242 - acc: 0.9950 - val_loss: 0.0153 - val_acc: 1.0000\n",
      "Epoch 127/200\n",
      "200/200 [==============================] - 0s - loss: 0.0349 - acc: 0.9950 - val_loss: 0.0156 - val_acc: 1.0000\n",
      "Epoch 128/200\n",
      "200/200 [==============================] - 0s - loss: 0.0359 - acc: 0.9900 - val_loss: 0.0148 - val_acc: 1.0000\n",
      "Epoch 129/200\n",
      "200/200 [==============================] - 0s - loss: 0.0347 - acc: 0.9950 - val_loss: 0.0154 - val_acc: 1.0000\n",
      "Epoch 130/200\n",
      "200/200 [==============================] - 0s - loss: 0.0533 - acc: 0.9900 - val_loss: 0.0159 - val_acc: 1.0000\n",
      "Epoch 131/200\n",
      "200/200 [==============================] - 0s - loss: 0.0383 - acc: 0.9950 - val_loss: 0.0160 - val_acc: 1.0000\n",
      "Epoch 132/200\n",
      "200/200 [==============================] - 0s - loss: 0.0249 - acc: 1.0000 - val_loss: 0.0160 - val_acc: 1.0000\n",
      "Epoch 133/200\n",
      "200/200 [==============================] - 0s - loss: 0.0466 - acc: 0.9900 - val_loss: 0.0156 - val_acc: 1.0000\n",
      "Epoch 134/200\n",
      "200/200 [==============================] - 0s - loss: 0.0242 - acc: 0.9950 - val_loss: 0.0149 - val_acc: 1.0000\n",
      "Epoch 135/200\n",
      "200/200 [==============================] - 0s - loss: 0.0195 - acc: 1.0000 - val_loss: 0.0130 - val_acc: 1.0000\n",
      "Epoch 136/200\n",
      "200/200 [==============================] - 0s - loss: 0.0471 - acc: 0.9900 - val_loss: 0.0120 - val_acc: 1.0000\n",
      "Epoch 137/200\n",
      "200/200 [==============================] - 0s - loss: 0.0397 - acc: 0.9900 - val_loss: 0.0127 - val_acc: 1.0000\n",
      "Epoch 138/200\n",
      "200/200 [==============================] - 0s - loss: 0.0177 - acc: 0.9950 - val_loss: 0.0133 - val_acc: 1.0000\n",
      "Epoch 139/200\n",
      "200/200 [==============================] - 0s - loss: 0.0449 - acc: 0.9800 - val_loss: 0.0135 - val_acc: 1.0000\n",
      "Epoch 140/200\n",
      "200/200 [==============================] - 0s - loss: 0.0195 - acc: 1.0000 - val_loss: 0.0131 - val_acc: 1.0000\n",
      "Epoch 141/200\n",
      "200/200 [==============================] - 0s - loss: 0.0242 - acc: 0.9950 - val_loss: 0.0125 - val_acc: 1.0000\n",
      "Epoch 142/200\n",
      "200/200 [==============================] - 0s - loss: 0.0290 - acc: 0.9950 - val_loss: 0.0121 - val_acc: 1.0000\n",
      "Epoch 143/200\n",
      "200/200 [==============================] - 0s - loss: 0.0237 - acc: 1.0000 - val_loss: 0.0119 - val_acc: 1.0000\n",
      "Epoch 144/200\n",
      "200/200 [==============================] - 0s - loss: 0.0118 - acc: 1.0000 - val_loss: 0.0114 - val_acc: 1.0000\n",
      "Epoch 145/200\n",
      "200/200 [==============================] - 0s - loss: 0.0220 - acc: 1.0000 - val_loss: 0.0112 - val_acc: 1.0000\n",
      "Epoch 146/200\n",
      "200/200 [==============================] - 0s - loss: 0.0264 - acc: 0.9900 - val_loss: 0.0110 - val_acc: 1.0000\n",
      "Epoch 147/200\n",
      "200/200 [==============================] - 0s - loss: 0.0135 - acc: 1.0000 - val_loss: 0.0112 - val_acc: 1.0000\n",
      "Epoch 148/200\n",
      "200/200 [==============================] - 0s - loss: 0.0302 - acc: 0.9900 - val_loss: 0.0124 - val_acc: 1.0000\n",
      "Epoch 149/200\n",
      "200/200 [==============================] - 0s - loss: 0.0389 - acc: 0.9850 - val_loss: 0.0130 - val_acc: 1.0000\n",
      "Epoch 150/200\n",
      "200/200 [==============================] - 0s - loss: 0.0241 - acc: 0.9900 - val_loss: 0.0120 - val_acc: 1.0000\n",
      "Epoch 151/200\n",
      "200/200 [==============================] - 0s - loss: 0.0298 - acc: 0.9950 - val_loss: 0.0108 - val_acc: 1.0000\n",
      "Epoch 152/200\n",
      "200/200 [==============================] - 0s - loss: 0.0160 - acc: 1.0000 - val_loss: 0.0093 - val_acc: 1.0000\n",
      "Epoch 153/200\n",
      "200/200 [==============================] - 0s - loss: 0.0240 - acc: 0.9950 - val_loss: 0.0080 - val_acc: 1.0000\n",
      "Epoch 154/200\n",
      "200/200 [==============================] - 0s - loss: 0.0148 - acc: 1.0000 - val_loss: 0.0080 - val_acc: 1.0000\n",
      "Epoch 155/200\n",
      "200/200 [==============================] - 0s - loss: 0.0184 - acc: 1.0000 - val_loss: 0.0088 - val_acc: 1.0000\n",
      "Epoch 156/200\n",
      "200/200 [==============================] - 0s - loss: 0.0188 - acc: 1.0000 - val_loss: 0.0106 - val_acc: 1.0000\n",
      "Epoch 157/200\n",
      "200/200 [==============================] - 0s - loss: 0.0225 - acc: 0.9950 - val_loss: 0.0126 - val_acc: 1.0000\n",
      "Epoch 158/200\n",
      "200/200 [==============================] - 0s - loss: 0.0186 - acc: 0.9950 - val_loss: 0.0136 - val_acc: 1.0000\n",
      "Epoch 159/200\n",
      "200/200 [==============================] - 0s - loss: 0.0127 - acc: 1.0000 - val_loss: 0.0145 - val_acc: 1.0000\n",
      "Epoch 160/200\n",
      "200/200 [==============================] - 0s - loss: 0.0276 - acc: 0.9900 - val_loss: 0.0130 - val_acc: 1.0000\n",
      "Epoch 161/200\n",
      "200/200 [==============================] - 0s - loss: 0.0222 - acc: 0.9900 - val_loss: 0.0111 - val_acc: 1.0000\n",
      "Epoch 162/200\n",
      "200/200 [==============================] - 0s - loss: 0.0153 - acc: 0.9950 - val_loss: 0.0102 - val_acc: 1.0000\n",
      "Epoch 163/200\n",
      "200/200 [==============================] - 0s - loss: 0.0207 - acc: 0.9950 - val_loss: 0.0094 - val_acc: 1.0000\n",
      "Epoch 164/200\n",
      "200/200 [==============================] - 0s - loss: 0.0276 - acc: 0.9900 - val_loss: 0.0095 - val_acc: 1.0000\n",
      "Epoch 165/200\n",
      "200/200 [==============================] - 0s - loss: 0.0225 - acc: 0.9900 - val_loss: 0.0099 - val_acc: 1.0000\n",
      "Epoch 166/200\n",
      "200/200 [==============================] - 0s - loss: 0.0161 - acc: 1.0000 - val_loss: 0.0102 - val_acc: 1.0000\n",
      "Epoch 167/200\n",
      "200/200 [==============================] - 0s - loss: 0.0463 - acc: 0.9950 - val_loss: 0.0099 - val_acc: 1.0000\n",
      "Epoch 168/200\n",
      "200/200 [==============================] - 0s - loss: 0.0207 - acc: 0.9950 - val_loss: 0.0098 - val_acc: 1.0000\n",
      "Epoch 169/200\n",
      "200/200 [==============================] - 0s - loss: 0.0287 - acc: 0.9900 - val_loss: 0.0092 - val_acc: 1.0000\n",
      "Epoch 170/200\n",
      "200/200 [==============================] - 0s - loss: 0.0150 - acc: 1.0000 - val_loss: 0.0090 - val_acc: 1.0000\n",
      "Epoch 171/200\n",
      "200/200 [==============================] - 0s - loss: 0.0204 - acc: 0.9950 - val_loss: 0.0091 - val_acc: 1.0000\n",
      "Epoch 172/200\n",
      "200/200 [==============================] - 0s - loss: 0.0285 - acc: 0.9900 - val_loss: 0.0105 - val_acc: 1.0000\n",
      "Epoch 173/200\n",
      "200/200 [==============================] - 0s - loss: 0.0137 - acc: 0.9950 - val_loss: 0.0116 - val_acc: 1.0000\n",
      "Epoch 174/200\n",
      "200/200 [==============================] - 0s - loss: 0.0438 - acc: 0.9850 - val_loss: 0.0124 - val_acc: 1.0000\n",
      "Epoch 175/200\n",
      "200/200 [==============================] - 0s - loss: 0.0130 - acc: 1.0000 - val_loss: 0.0138 - val_acc: 1.0000\n"
     ]
    },
    {
     "data": {
      "text/plain": [
       "<keras.callbacks.History at 0x7fe1ae061f50>"
      ]
     },
     "execution_count": 66,
     "metadata": {},
     "output_type": "execute_result"
    }
   ],
   "source": [
    "earlyStopping=keras.callbacks.EarlyStopping(monitor='val_loss', patience=20, verbose=0, mode='auto')\n",
    "\n",
    "model.compile(loss='categorical_crossentropy',optimizer='adam',metrics=['acc'])\n",
    "\n",
    "\n",
    "model.fit(x_train, y_train, nb_epoch=200, shuffle=True, callbacks=[earlyStopping], \n",
    "          validation_data = (x_valid, y_valid), batch_size=50)"
   ]
  },
  {
   "cell_type": "code",
   "execution_count": 67,
   "metadata": {
    "collapsed": false
   },
   "outputs": [
    {
     "name": "stdout",
     "output_type": "stream",
     "text": [
      "44/44 [==============================] - 0s\n"
     ]
    },
    {
     "data": {
      "text/plain": [
       "[0.09788048267364502, 0.93181818723678589]"
      ]
     },
     "execution_count": 67,
     "metadata": {},
     "output_type": "execute_result"
    }
   ],
   "source": [
    "model.evaluate(x_test, y_test, batch_size=50)"
   ]
  },
  {
   "cell_type": "code",
   "execution_count": 68,
   "metadata": {
    "collapsed": false
   },
   "outputs": [
    {
     "name": "stdout",
     "output_type": "stream",
     "text": [
      "44/44 [==============================] - 0s     \n",
      "[2 2 0 2 1 0 0 0 2 1 2 2 1 0 2 0 0 2 1 0 0 0 1 2 0 2 0 2 2 0 1 2 1 2 1 2 0\n",
      " 0 2 1 2 1 2 2]\n",
      "32/44 [====================>.........] - ETA: 0s                precision    recall  f1-score   support\n",
      "\n",
      "class 0(0back)       1.00      1.00      1.00        15\n",
      "class 1(1back)       0.90      0.82      0.86        11\n",
      "class 2(2back)       0.89      0.94      0.92        18\n",
      "\n",
      "   avg / total       0.93      0.93      0.93        44\n",
      "\n",
      "[[15  0  0]\n",
      " [ 0  9  2]\n",
      " [ 0  1 17]]\n"
     ]
    }
   ],
   "source": [
    "from sklearn.metrics import classification_report,confusion_matrix\n",
    "\n",
    "y_pred = model.predict_classes(x_test)\n",
    "print(y_pred)\n",
    "\n",
    "p=model.predict_proba(x_test)\n",
    "\n",
    "target_names = ['class 0(0back)', 'class 1(1back)', 'class 2(2back)', 'class3(3back)']\n",
    "print(classification_report(np.argmax(y_test,axis=1), y_pred,target_names=target_names))\n",
    "print(confusion_matrix(np.argmax(y_test,axis=1), y_pred))"
   ]
  },
  {
   "cell_type": "code",
   "execution_count": null,
   "metadata": {
    "collapsed": true
   },
   "outputs": [],
   "source": []
  },
  {
   "cell_type": "code",
   "execution_count": null,
   "metadata": {
    "collapsed": true
   },
   "outputs": [],
   "source": []
  }
 ],
 "metadata": {
  "anaconda-cloud": {},
  "kernelspec": {
   "display_name": "Python [conda root]",
   "language": "python",
   "name": "conda-root-py"
  },
  "language_info": {
   "codemirror_mode": {
    "name": "ipython",
    "version": 2
   },
   "file_extension": ".py",
   "mimetype": "text/x-python",
   "name": "python",
   "nbconvert_exporter": "python",
   "pygments_lexer": "ipython2",
   "version": "2.7.12"
  }
 },
 "nbformat": 4,
 "nbformat_minor": 1
}
